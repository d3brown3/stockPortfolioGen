{
 "cells": [
  {
   "cell_type": "code",
   "execution_count": 1,
   "metadata": {},
   "outputs": [
    {
     "name": "stderr",
     "output_type": "stream",
     "text": [
      "Using TensorFlow backend.\n"
     ]
    }
   ],
   "source": [
    "from itertools import compress\n",
    "import pandas as pd\n",
    "import re\n",
    "import numpy as np\n",
    "import keras\n",
    "from keras import layers\n",
    "from keras.layers import recurrent, Dense, Input, LSTM, concatenate, Reshape\n",
    "from keras.models import Model\n",
    "import matplotlib.pyplot as plt\n",
    "from keras import backend as K"
   ]
  },
  {
   "cell_type": "code",
   "execution_count": 2,
   "metadata": {},
   "outputs": [
    {
     "data": {
      "text/plain": [
       "10"
      ]
     },
     "execution_count": 2,
     "metadata": {},
     "output_type": "execute_result"
    }
   ],
   "source": [
    "pd.options.display.max_rows = 10\n",
    "\n",
    "pd.options.display.max_rows"
   ]
  },
  {
   "cell_type": "code",
   "execution_count": 3,
   "metadata": {},
   "outputs": [],
   "source": [
    "df = pd.read_csv('/home/david/stockPortfolioGen/data/stocks.csv.gz', compression='gzip')"
   ]
  },
  {
   "cell_type": "code",
   "execution_count": 4,
   "metadata": {},
   "outputs": [],
   "source": [
    "df = df.sort_values(by=['Date', 'Symbol'])"
   ]
  },
  {
   "cell_type": "code",
   "execution_count": 5,
   "metadata": {},
   "outputs": [],
   "source": [
    "# l1 = list(range(1,10+1))\n",
    "\n",
    "# l2 = [list(range(i, i+10)) for i in l1]\n",
    "# l2 = np.array(l2)\n",
    "\n",
    "# l2.shape\n",
    "# l2"
   ]
  },
  {
   "cell_type": "code",
   "execution_count": 6,
   "metadata": {},
   "outputs": [],
   "source": [
    "# stocks = list(df['Symbol'].unique())\n",
    "# stocks = stocks[0:2]\n",
    "\n",
    "# print(stocks)\n",
    "\n",
    "# train_arr = np.empty((0,37)) \n",
    "\n",
    "# for stock in stocks:\n",
    "#    df_stock = df[df['Symbol'] == stock]\n",
    "#    np_stock = np.array(df_stock['Adj Close'])\n",
    "#    array_stock = [np_stock[range(min(i, len(np_stock)), min(i + 37, len(np_stock)))] for i in range(len(df_stock['Adj Close']))]\n",
    "#    array_stock = np.array(array_stock)\n",
    "#    print(array_stock.shape)\n",
    "#    np.append(train_arr, array_stock, axis = 0)\n",
    "\n",
    "# train_arr"
   ]
  },
  {
   "cell_type": "code",
   "execution_count": 7,
   "metadata": {},
   "outputs": [],
   "source": [
    "# ind = pd.Series(df['Symbol']).str.contains('aapl').tolist()\n",
    "# df[ind]"
   ]
  },
  {
   "cell_type": "code",
   "execution_count": 8,
   "metadata": {},
   "outputs": [],
   "source": [
    "# I don't have the NYSE ? Missing CHS and AAPL.\n",
    "# dat = df[df['Symbol']=='CASI']\n",
    "ind = (df['Symbol']=='CASI')|(df['Symbol']=='MSFT')|(df['Symbol']=='MBOT')|(df['Symbol']=='TLRY')|(df['Symbol']=='GOOG')\n",
    "\n",
    "# dat = df[ind].pivot(index = 'Date', columns = 'Symbol', values = 'Adj Close').fillna(0)\n",
    "dat = df[ind]"
   ]
  },
  {
   "cell_type": "code",
   "execution_count": 9,
   "metadata": {},
   "outputs": [
    {
     "data": {
      "text/html": [
       "<div>\n",
       "<style scoped>\n",
       "    .dataframe tbody tr th:only-of-type {\n",
       "        vertical-align: middle;\n",
       "    }\n",
       "\n",
       "    .dataframe tbody tr th {\n",
       "        vertical-align: top;\n",
       "    }\n",
       "\n",
       "    .dataframe thead th {\n",
       "        text-align: right;\n",
       "    }\n",
       "</style>\n",
       "<table border=\"1\" class=\"dataframe\">\n",
       "  <thead>\n",
       "    <tr style=\"text-align: right;\">\n",
       "      <th></th>\n",
       "      <th>Symbol</th>\n",
       "      <th>Date</th>\n",
       "      <th>Open</th>\n",
       "      <th>High</th>\n",
       "      <th>Low</th>\n",
       "      <th>Close</th>\n",
       "      <th>Adj Close</th>\n",
       "      <th>Volume</th>\n",
       "    </tr>\n",
       "  </thead>\n",
       "  <tbody>\n",
       "    <tr>\n",
       "      <th>694044</th>\n",
       "      <td>CASI</td>\n",
       "      <td>2008-12-22</td>\n",
       "      <td>1.000000</td>\n",
       "      <td>1.000000</td>\n",
       "      <td>1.000000</td>\n",
       "      <td>1.000000</td>\n",
       "      <td>1.000000</td>\n",
       "      <td>1.000000</td>\n",
       "    </tr>\n",
       "    <tr>\n",
       "      <th>173173</th>\n",
       "      <td>GOOG</td>\n",
       "      <td>2008-12-22</td>\n",
       "      <td>1.000000</td>\n",
       "      <td>1.000000</td>\n",
       "      <td>1.000000</td>\n",
       "      <td>1.000000</td>\n",
       "      <td>1.000000</td>\n",
       "      <td>1.000000</td>\n",
       "    </tr>\n",
       "    <tr>\n",
       "      <th>2699343</th>\n",
       "      <td>MBOT</td>\n",
       "      <td>2008-12-22</td>\n",
       "      <td>1.000000</td>\n",
       "      <td>1.000000</td>\n",
       "      <td>1.000000</td>\n",
       "      <td>1.000000</td>\n",
       "      <td>1.000000</td>\n",
       "      <td>1.000000</td>\n",
       "    </tr>\n",
       "    <tr>\n",
       "      <th>2704371</th>\n",
       "      <td>MSFT</td>\n",
       "      <td>2008-12-22</td>\n",
       "      <td>1.000000</td>\n",
       "      <td>1.000000</td>\n",
       "      <td>1.000000</td>\n",
       "      <td>1.000000</td>\n",
       "      <td>1.000000</td>\n",
       "      <td>1.000000</td>\n",
       "    </tr>\n",
       "    <tr>\n",
       "      <th>694045</th>\n",
       "      <td>CASI</td>\n",
       "      <td>2008-12-23</td>\n",
       "      <td>0.842105</td>\n",
       "      <td>0.950000</td>\n",
       "      <td>1.000000</td>\n",
       "      <td>0.888889</td>\n",
       "      <td>0.888889</td>\n",
       "      <td>0.886010</td>\n",
       "    </tr>\n",
       "    <tr>\n",
       "      <th>...</th>\n",
       "      <td>...</td>\n",
       "      <td>...</td>\n",
       "      <td>...</td>\n",
       "      <td>...</td>\n",
       "      <td>...</td>\n",
       "      <td>...</td>\n",
       "      <td>...</td>\n",
       "      <td>...</td>\n",
       "    </tr>\n",
       "    <tr>\n",
       "      <th>696557</th>\n",
       "      <td>CASI</td>\n",
       "      <td>2018-12-17</td>\n",
       "      <td>2.033493</td>\n",
       "      <td>2.040909</td>\n",
       "      <td>2.409091</td>\n",
       "      <td>2.176768</td>\n",
       "      <td>2.176768</td>\n",
       "      <td>10.031425</td>\n",
       "    </tr>\n",
       "    <tr>\n",
       "      <th>175686</th>\n",
       "      <td>GOOG</td>\n",
       "      <td>2018-12-17</td>\n",
       "      <td>6.768590</td>\n",
       "      <td>6.849756</td>\n",
       "      <td>6.981078</td>\n",
       "      <td>6.887292</td>\n",
       "      <td>6.887292</td>\n",
       "      <td>0.302145</td>\n",
       "    </tr>\n",
       "    <tr>\n",
       "      <th>2701856</th>\n",
       "      <td>MBOT</td>\n",
       "      <td>2018-12-17</td>\n",
       "      <td>0.001428</td>\n",
       "      <td>0.001403</td>\n",
       "      <td>0.001389</td>\n",
       "      <td>0.001356</td>\n",
       "      <td>0.001356</td>\n",
       "      <td>46.357692</td>\n",
       "    </tr>\n",
       "    <tr>\n",
       "      <th>2706884</th>\n",
       "      <td>MSFT</td>\n",
       "      <td>2018-12-17</td>\n",
       "      <td>5.478690</td>\n",
       "      <td>5.484707</td>\n",
       "      <td>5.384331</td>\n",
       "      <td>5.364442</td>\n",
       "      <td>6.873662</td>\n",
       "      <td>0.972285</td>\n",
       "    </tr>\n",
       "    <tr>\n",
       "      <th>4025450</th>\n",
       "      <td>TLRY</td>\n",
       "      <td>2018-12-17</td>\n",
       "      <td>3.227766</td>\n",
       "      <td>3.135288</td>\n",
       "      <td>3.187065</td>\n",
       "      <td>2.942832</td>\n",
       "      <td>2.942832</td>\n",
       "      <td>0.190755</td>\n",
       "    </tr>\n",
       "  </tbody>\n",
       "</table>\n",
       "<p>10161 rows × 8 columns</p>\n",
       "</div>"
      ],
      "text/plain": [
       "        Symbol        Date      Open      High       Low     Close  Adj Close  \\\n",
       "694044    CASI  2008-12-22  1.000000  1.000000  1.000000  1.000000   1.000000   \n",
       "173173    GOOG  2008-12-22  1.000000  1.000000  1.000000  1.000000   1.000000   \n",
       "2699343   MBOT  2008-12-22  1.000000  1.000000  1.000000  1.000000   1.000000   \n",
       "2704371   MSFT  2008-12-22  1.000000  1.000000  1.000000  1.000000   1.000000   \n",
       "694045    CASI  2008-12-23  0.842105  0.950000  1.000000  0.888889   0.888889   \n",
       "...        ...         ...       ...       ...       ...       ...        ...   \n",
       "696557    CASI  2018-12-17  2.033493  2.040909  2.409091  2.176768   2.176768   \n",
       "175686    GOOG  2018-12-17  6.768590  6.849756  6.981078  6.887292   6.887292   \n",
       "2701856   MBOT  2018-12-17  0.001428  0.001403  0.001389  0.001356   0.001356   \n",
       "2706884   MSFT  2018-12-17  5.478690  5.484707  5.384331  5.364442   6.873662   \n",
       "4025450   TLRY  2018-12-17  3.227766  3.135288  3.187065  2.942832   2.942832   \n",
       "\n",
       "            Volume  \n",
       "694044    1.000000  \n",
       "173173    1.000000  \n",
       "2699343   1.000000  \n",
       "2704371   1.000000  \n",
       "694045    0.886010  \n",
       "...            ...  \n",
       "696557   10.031425  \n",
       "175686    0.302145  \n",
       "2701856  46.357692  \n",
       "2706884   0.972285  \n",
       "4025450   0.190755  \n",
       "\n",
       "[10161 rows x 8 columns]"
      ]
     },
     "execution_count": 9,
     "metadata": {},
     "output_type": "execute_result"
    }
   ],
   "source": [
    "dat2 = dat.drop(dat.columns[[0,2]], axis = 1)\n",
    "firsts = dat2.groupby('Symbol').transform('first')\n",
    "normalized = dat2.drop(dat2.columns[[0]], axis = 1)/firsts\n",
    "\n",
    "dat = dat.loc[:,\"Symbol\":\"Date\"].join(normalized)\n",
    "dat"
   ]
  },
  {
   "cell_type": "code",
   "execution_count": 10,
   "metadata": {},
   "outputs": [
    {
     "name": "stderr",
     "output_type": "stream",
     "text": [
      "/home/david/.local/lib/python3.6/site-packages/pandas/core/groupby/groupby.py:4477: RuntimeWarning: divide by zero encountered in log\n",
      "  lambda x: func(x, *args, **kwargs), axis=self.axis)\n",
      "/home/david/.local/lib/python3.6/site-packages/pandas/core/groupby/groupby.py:4475: RuntimeWarning: divide by zero encountered in log\n",
      "  fast_path = lambda group: func(group, *args, **kwargs)\n"
     ]
    },
    {
     "data": {
      "text/html": [
       "<div>\n",
       "<style scoped>\n",
       "    .dataframe tbody tr th:only-of-type {\n",
       "        vertical-align: middle;\n",
       "    }\n",
       "\n",
       "    .dataframe tbody tr th {\n",
       "        vertical-align: top;\n",
       "    }\n",
       "\n",
       "    .dataframe thead th {\n",
       "        text-align: right;\n",
       "    }\n",
       "</style>\n",
       "<table border=\"1\" class=\"dataframe\">\n",
       "  <thead>\n",
       "    <tr style=\"text-align: right;\">\n",
       "      <th></th>\n",
       "      <th>Symbol</th>\n",
       "      <th>Date</th>\n",
       "      <th>Open</th>\n",
       "      <th>High</th>\n",
       "      <th>Low</th>\n",
       "      <th>Close</th>\n",
       "      <th>Adj Close</th>\n",
       "      <th>Volume</th>\n",
       "    </tr>\n",
       "  </thead>\n",
       "  <tbody>\n",
       "    <tr>\n",
       "      <th>694044</th>\n",
       "      <td>CASI</td>\n",
       "      <td>2008-12-22</td>\n",
       "      <td>0.000000</td>\n",
       "      <td>0.000000</td>\n",
       "      <td>0.000000</td>\n",
       "      <td>0.000000</td>\n",
       "      <td>0.000000</td>\n",
       "      <td>0.000000</td>\n",
       "    </tr>\n",
       "    <tr>\n",
       "      <th>173173</th>\n",
       "      <td>GOOG</td>\n",
       "      <td>2008-12-22</td>\n",
       "      <td>0.000000</td>\n",
       "      <td>0.000000</td>\n",
       "      <td>0.000000</td>\n",
       "      <td>0.000000</td>\n",
       "      <td>0.000000</td>\n",
       "      <td>0.000000</td>\n",
       "    </tr>\n",
       "    <tr>\n",
       "      <th>2699343</th>\n",
       "      <td>MBOT</td>\n",
       "      <td>2008-12-22</td>\n",
       "      <td>0.000000</td>\n",
       "      <td>0.000000</td>\n",
       "      <td>0.000000</td>\n",
       "      <td>0.000000</td>\n",
       "      <td>0.000000</td>\n",
       "      <td>0.000000</td>\n",
       "    </tr>\n",
       "    <tr>\n",
       "      <th>2704371</th>\n",
       "      <td>MSFT</td>\n",
       "      <td>2008-12-22</td>\n",
       "      <td>0.000000</td>\n",
       "      <td>0.000000</td>\n",
       "      <td>0.000000</td>\n",
       "      <td>0.000000</td>\n",
       "      <td>0.000000</td>\n",
       "      <td>0.000000</td>\n",
       "    </tr>\n",
       "    <tr>\n",
       "      <th>694045</th>\n",
       "      <td>CASI</td>\n",
       "      <td>2008-12-23</td>\n",
       "      <td>-0.171850</td>\n",
       "      <td>-0.051293</td>\n",
       "      <td>0.000000</td>\n",
       "      <td>-0.117783</td>\n",
       "      <td>-0.117783</td>\n",
       "      <td>-0.121027</td>\n",
       "    </tr>\n",
       "    <tr>\n",
       "      <th>...</th>\n",
       "      <td>...</td>\n",
       "      <td>...</td>\n",
       "      <td>...</td>\n",
       "      <td>...</td>\n",
       "      <td>...</td>\n",
       "      <td>...</td>\n",
       "      <td>...</td>\n",
       "      <td>...</td>\n",
       "    </tr>\n",
       "    <tr>\n",
       "      <th>696557</th>\n",
       "      <td>CASI</td>\n",
       "      <td>2018-12-17</td>\n",
       "      <td>0.709755</td>\n",
       "      <td>0.713395</td>\n",
       "      <td>0.879249</td>\n",
       "      <td>0.777841</td>\n",
       "      <td>0.777841</td>\n",
       "      <td>2.305723</td>\n",
       "    </tr>\n",
       "    <tr>\n",
       "      <th>175686</th>\n",
       "      <td>GOOG</td>\n",
       "      <td>2018-12-17</td>\n",
       "      <td>1.912293</td>\n",
       "      <td>1.924213</td>\n",
       "      <td>1.943203</td>\n",
       "      <td>1.929678</td>\n",
       "      <td>1.929678</td>\n",
       "      <td>-1.196850</td>\n",
       "    </tr>\n",
       "    <tr>\n",
       "      <th>2701856</th>\n",
       "      <td>MBOT</td>\n",
       "      <td>2018-12-17</td>\n",
       "      <td>-6.551224</td>\n",
       "      <td>-6.569201</td>\n",
       "      <td>-6.579251</td>\n",
       "      <td>-6.603544</td>\n",
       "      <td>-6.603544</td>\n",
       "      <td>3.836387</td>\n",
       "    </tr>\n",
       "    <tr>\n",
       "      <th>2706884</th>\n",
       "      <td>MSFT</td>\n",
       "      <td>2018-12-17</td>\n",
       "      <td>1.700866</td>\n",
       "      <td>1.701964</td>\n",
       "      <td>1.683493</td>\n",
       "      <td>1.679792</td>\n",
       "      <td>1.927697</td>\n",
       "      <td>-0.028107</td>\n",
       "    </tr>\n",
       "    <tr>\n",
       "      <th>4025450</th>\n",
       "      <td>TLRY</td>\n",
       "      <td>2018-12-17</td>\n",
       "      <td>1.171790</td>\n",
       "      <td>1.142721</td>\n",
       "      <td>1.159100</td>\n",
       "      <td>1.079372</td>\n",
       "      <td>1.079372</td>\n",
       "      <td>-1.656765</td>\n",
       "    </tr>\n",
       "  </tbody>\n",
       "</table>\n",
       "<p>10161 rows × 8 columns</p>\n",
       "</div>"
      ],
      "text/plain": [
       "        Symbol        Date      Open      High       Low     Close  Adj Close  \\\n",
       "694044    CASI  2008-12-22  0.000000  0.000000  0.000000  0.000000   0.000000   \n",
       "173173    GOOG  2008-12-22  0.000000  0.000000  0.000000  0.000000   0.000000   \n",
       "2699343   MBOT  2008-12-22  0.000000  0.000000  0.000000  0.000000   0.000000   \n",
       "2704371   MSFT  2008-12-22  0.000000  0.000000  0.000000  0.000000   0.000000   \n",
       "694045    CASI  2008-12-23 -0.171850 -0.051293  0.000000 -0.117783  -0.117783   \n",
       "...        ...         ...       ...       ...       ...       ...        ...   \n",
       "696557    CASI  2018-12-17  0.709755  0.713395  0.879249  0.777841   0.777841   \n",
       "175686    GOOG  2018-12-17  1.912293  1.924213  1.943203  1.929678   1.929678   \n",
       "2701856   MBOT  2018-12-17 -6.551224 -6.569201 -6.579251 -6.603544  -6.603544   \n",
       "2706884   MSFT  2018-12-17  1.700866  1.701964  1.683493  1.679792   1.927697   \n",
       "4025450   TLRY  2018-12-17  1.171790  1.142721  1.159100  1.079372   1.079372   \n",
       "\n",
       "           Volume  \n",
       "694044   0.000000  \n",
       "173173   0.000000  \n",
       "2699343  0.000000  \n",
       "2704371  0.000000  \n",
       "694045  -0.121027  \n",
       "...           ...  \n",
       "696557   2.305723  \n",
       "175686  -1.196850  \n",
       "2701856  3.836387  \n",
       "2706884 -0.028107  \n",
       "4025450 -1.656765  \n",
       "\n",
       "[10161 rows x 8 columns]"
      ]
     },
     "execution_count": 10,
     "metadata": {},
     "output_type": "execute_result"
    }
   ],
   "source": [
    "log_trans = dat.drop(dat.columns[[1]], axis = 1).groupby('Symbol').transform(np.log)\n",
    "dat = dat.loc[:,\"Symbol\":\"Date\"].join(log_trans)\n",
    "\n",
    "dat"
   ]
  },
  {
   "cell_type": "code",
   "execution_count": 11,
   "metadata": {},
   "outputs": [
    {
     "data": {
      "text/plain": [
       "<matplotlib.axes._subplots.AxesSubplot at 0x7f4f4fad5588>"
      ]
     },
     "execution_count": 11,
     "metadata": {},
     "output_type": "execute_result"
    },
    {
     "data": {
      "image/png": "[encoded data removed]",
      "text/plain": [
       "<Figure size 432x288 with 1 Axes>"
      ]
     },
     "metadata": {
      "needs_background": "light"
     },
     "output_type": "display_data"
    }
   ],
   "source": [
    "dat.pivot_table(index='Date',columns='Symbol',values='Adj Close',aggfunc='sum').plot()"
   ]
  },
  {
   "cell_type": "code",
   "execution_count": 12,
   "metadata": {},
   "outputs": [
    {
     "data": {
      "text/html": [
       "<div>\n",
       "<style scoped>\n",
       "    .dataframe tbody tr th:only-of-type {\n",
       "        vertical-align: middle;\n",
       "    }\n",
       "\n",
       "    .dataframe tbody tr th {\n",
       "        vertical-align: top;\n",
       "    }\n",
       "\n",
       "    .dataframe thead th {\n",
       "        text-align: right;\n",
       "    }\n",
       "</style>\n",
       "<table border=\"1\" class=\"dataframe\">\n",
       "  <thead>\n",
       "    <tr style=\"text-align: right;\">\n",
       "      <th>Symbol</th>\n",
       "      <th>CASI</th>\n",
       "      <th>GOOG</th>\n",
       "      <th>MBOT</th>\n",
       "      <th>MSFT</th>\n",
       "      <th>TLRY</th>\n",
       "    </tr>\n",
       "    <tr>\n",
       "      <th>Date</th>\n",
       "      <th></th>\n",
       "      <th></th>\n",
       "      <th></th>\n",
       "      <th></th>\n",
       "      <th></th>\n",
       "    </tr>\n",
       "  </thead>\n",
       "  <tbody>\n",
       "    <tr>\n",
       "      <th>2008-12-22</th>\n",
       "      <td>0.000000</td>\n",
       "      <td>0.000000</td>\n",
       "      <td>0.000000</td>\n",
       "      <td>0.000000</td>\n",
       "      <td>0.000000</td>\n",
       "    </tr>\n",
       "    <tr>\n",
       "      <th>2008-12-23</th>\n",
       "      <td>-0.117783</td>\n",
       "      <td>0.003058</td>\n",
       "      <td>-0.024293</td>\n",
       "      <td>0.005200</td>\n",
       "      <td>0.000000</td>\n",
       "    </tr>\n",
       "    <tr>\n",
       "      <th>2008-12-24</th>\n",
       "      <td>-0.057158</td>\n",
       "      <td>0.019465</td>\n",
       "      <td>0.023717</td>\n",
       "      <td>-0.000521</td>\n",
       "      <td>0.000000</td>\n",
       "    </tr>\n",
       "    <tr>\n",
       "      <th>2008-12-26</th>\n",
       "      <td>0.105361</td>\n",
       "      <td>0.010879</td>\n",
       "      <td>0.106160</td>\n",
       "      <td>-0.002610</td>\n",
       "      <td>0.000000</td>\n",
       "    </tr>\n",
       "    <tr>\n",
       "      <th>2008-12-29</th>\n",
       "      <td>-0.057158</td>\n",
       "      <td>0.001043</td>\n",
       "      <td>0.069526</td>\n",
       "      <td>-0.011536</td>\n",
       "      <td>0.000000</td>\n",
       "    </tr>\n",
       "    <tr>\n",
       "      <th>...</th>\n",
       "      <td>...</td>\n",
       "      <td>...</td>\n",
       "      <td>...</td>\n",
       "      <td>...</td>\n",
       "      <td>...</td>\n",
       "    </tr>\n",
       "    <tr>\n",
       "      <th>2018-12-11</th>\n",
       "      <td>0.672738</td>\n",
       "      <td>1.963738</td>\n",
       "      <td>-6.519725</td>\n",
       "      <td>1.981616</td>\n",
       "      <td>1.435425</td>\n",
       "    </tr>\n",
       "    <tr>\n",
       "      <th>2018-12-12</th>\n",
       "      <td>0.777841</td>\n",
       "      <td>1.975018</td>\n",
       "      <td>-6.509725</td>\n",
       "      <td>1.986118</td>\n",
       "      <td>1.327900</td>\n",
       "    </tr>\n",
       "    <tr>\n",
       "      <th>2018-12-13</th>\n",
       "      <td>0.768517</td>\n",
       "      <td>1.973343</td>\n",
       "      <td>-6.529826</td>\n",
       "      <td>1.989504</td>\n",
       "      <td>1.215783</td>\n",
       "    </tr>\n",
       "    <tr>\n",
       "      <th>2018-12-14</th>\n",
       "      <td>0.763822</td>\n",
       "      <td>1.954521</td>\n",
       "      <td>-6.524763</td>\n",
       "      <td>1.957759</td>\n",
       "      <td>1.210606</td>\n",
       "    </tr>\n",
       "    <tr>\n",
       "      <th>2018-12-17</th>\n",
       "      <td>0.777841</td>\n",
       "      <td>1.929678</td>\n",
       "      <td>-6.603544</td>\n",
       "      <td>1.927697</td>\n",
       "      <td>1.079372</td>\n",
       "    </tr>\n",
       "  </tbody>\n",
       "</table>\n",
       "<p>2514 rows × 5 columns</p>\n",
       "</div>"
      ],
      "text/plain": [
       "Symbol          CASI      GOOG      MBOT      MSFT      TLRY\n",
       "Date                                                        \n",
       "2008-12-22  0.000000  0.000000  0.000000  0.000000  0.000000\n",
       "2008-12-23 -0.117783  0.003058 -0.024293  0.005200  0.000000\n",
       "2008-12-24 -0.057158  0.019465  0.023717 -0.000521  0.000000\n",
       "2008-12-26  0.105361  0.010879  0.106160 -0.002610  0.000000\n",
       "2008-12-29 -0.057158  0.001043  0.069526 -0.011536  0.000000\n",
       "...              ...       ...       ...       ...       ...\n",
       "2018-12-11  0.672738  1.963738 -6.519725  1.981616  1.435425\n",
       "2018-12-12  0.777841  1.975018 -6.509725  1.986118  1.327900\n",
       "2018-12-13  0.768517  1.973343 -6.529826  1.989504  1.215783\n",
       "2018-12-14  0.763822  1.954521 -6.524763  1.957759  1.210606\n",
       "2018-12-17  0.777841  1.929678 -6.603544  1.927697  1.079372\n",
       "\n",
       "[2514 rows x 5 columns]"
      ]
     },
     "execution_count": 12,
     "metadata": {},
     "output_type": "execute_result"
    }
   ],
   "source": [
    "dat = dat.pivot(index = 'Date', columns = 'Symbol', values = 'Adj Close').fillna(0)\n",
    "dat"
   ]
  },
  {
   "cell_type": "code",
   "execution_count": 13,
   "metadata": {},
   "outputs": [],
   "source": [
    "dat = dat.stack().reset_index()\n",
    "dat.columns = ['Date', 'Symbol', 'Adj Close']"
   ]
  },
  {
   "cell_type": "code",
   "execution_count": 14,
   "metadata": {},
   "outputs": [
    {
     "data": {
      "text/html": [
       "<div>\n",
       "<style scoped>\n",
       "    .dataframe tbody tr th:only-of-type {\n",
       "        vertical-align: middle;\n",
       "    }\n",
       "\n",
       "    .dataframe tbody tr th {\n",
       "        vertical-align: top;\n",
       "    }\n",
       "\n",
       "    .dataframe thead th {\n",
       "        text-align: right;\n",
       "    }\n",
       "</style>\n",
       "<table border=\"1\" class=\"dataframe\">\n",
       "  <thead>\n",
       "    <tr style=\"text-align: right;\">\n",
       "      <th></th>\n",
       "      <th>Adj Close</th>\n",
       "      <th>CASI</th>\n",
       "      <th>GOOG</th>\n",
       "      <th>MBOT</th>\n",
       "      <th>MSFT</th>\n",
       "      <th>TLRY</th>\n",
       "    </tr>\n",
       "  </thead>\n",
       "  <tbody>\n",
       "    <tr>\n",
       "      <th>0</th>\n",
       "      <td>0.000000</td>\n",
       "      <td>1</td>\n",
       "      <td>0</td>\n",
       "      <td>0</td>\n",
       "      <td>0</td>\n",
       "      <td>0</td>\n",
       "    </tr>\n",
       "    <tr>\n",
       "      <th>1</th>\n",
       "      <td>0.000000</td>\n",
       "      <td>0</td>\n",
       "      <td>1</td>\n",
       "      <td>0</td>\n",
       "      <td>0</td>\n",
       "      <td>0</td>\n",
       "    </tr>\n",
       "    <tr>\n",
       "      <th>2</th>\n",
       "      <td>0.000000</td>\n",
       "      <td>0</td>\n",
       "      <td>0</td>\n",
       "      <td>1</td>\n",
       "      <td>0</td>\n",
       "      <td>0</td>\n",
       "    </tr>\n",
       "    <tr>\n",
       "      <th>3</th>\n",
       "      <td>0.000000</td>\n",
       "      <td>0</td>\n",
       "      <td>0</td>\n",
       "      <td>0</td>\n",
       "      <td>1</td>\n",
       "      <td>0</td>\n",
       "    </tr>\n",
       "    <tr>\n",
       "      <th>4</th>\n",
       "      <td>0.000000</td>\n",
       "      <td>0</td>\n",
       "      <td>0</td>\n",
       "      <td>0</td>\n",
       "      <td>0</td>\n",
       "      <td>1</td>\n",
       "    </tr>\n",
       "    <tr>\n",
       "      <th>...</th>\n",
       "      <td>...</td>\n",
       "      <td>...</td>\n",
       "      <td>...</td>\n",
       "      <td>...</td>\n",
       "      <td>...</td>\n",
       "      <td>...</td>\n",
       "    </tr>\n",
       "    <tr>\n",
       "      <th>12565</th>\n",
       "      <td>0.777841</td>\n",
       "      <td>1</td>\n",
       "      <td>0</td>\n",
       "      <td>0</td>\n",
       "      <td>0</td>\n",
       "      <td>0</td>\n",
       "    </tr>\n",
       "    <tr>\n",
       "      <th>12566</th>\n",
       "      <td>1.929678</td>\n",
       "      <td>0</td>\n",
       "      <td>1</td>\n",
       "      <td>0</td>\n",
       "      <td>0</td>\n",
       "      <td>0</td>\n",
       "    </tr>\n",
       "    <tr>\n",
       "      <th>12567</th>\n",
       "      <td>-6.603544</td>\n",
       "      <td>0</td>\n",
       "      <td>0</td>\n",
       "      <td>1</td>\n",
       "      <td>0</td>\n",
       "      <td>0</td>\n",
       "    </tr>\n",
       "    <tr>\n",
       "      <th>12568</th>\n",
       "      <td>1.927697</td>\n",
       "      <td>0</td>\n",
       "      <td>0</td>\n",
       "      <td>0</td>\n",
       "      <td>1</td>\n",
       "      <td>0</td>\n",
       "    </tr>\n",
       "    <tr>\n",
       "      <th>12569</th>\n",
       "      <td>1.079372</td>\n",
       "      <td>0</td>\n",
       "      <td>0</td>\n",
       "      <td>0</td>\n",
       "      <td>0</td>\n",
       "      <td>1</td>\n",
       "    </tr>\n",
       "  </tbody>\n",
       "</table>\n",
       "<p>12570 rows × 6 columns</p>\n",
       "</div>"
      ],
      "text/plain": [
       "       Adj Close  CASI  GOOG  MBOT  MSFT  TLRY\n",
       "0       0.000000     1     0     0     0     0\n",
       "1       0.000000     0     1     0     0     0\n",
       "2       0.000000     0     0     1     0     0\n",
       "3       0.000000     0     0     0     1     0\n",
       "4       0.000000     0     0     0     0     1\n",
       "...          ...   ...   ...   ...   ...   ...\n",
       "12565   0.777841     1     0     0     0     0\n",
       "12566   1.929678     0     1     0     0     0\n",
       "12567  -6.603544     0     0     1     0     0\n",
       "12568   1.927697     0     0     0     1     0\n",
       "12569   1.079372     0     0     0     0     1\n",
       "\n",
       "[12570 rows x 6 columns]"
      ]
     },
     "execution_count": 14,
     "metadata": {},
     "output_type": "execute_result"
    }
   ],
   "source": [
    "new_cols = pd.get_dummies(dat['Symbol'])\n",
    "\n",
    "dat = pd.DataFrame(dat['Adj Close']).join(new_cols)\n",
    "# index contains duplicates..(index = Date)\n",
    "dat"
   ]
  },
  {
   "cell_type": "code",
   "execution_count": 15,
   "metadata": {},
   "outputs": [],
   "source": [
    "# print(\"stuck here\") not stuck anymore"
   ]
  },
  {
   "cell_type": "code",
   "execution_count": 16,
   "metadata": {},
   "outputs": [],
   "source": [
    "# dat.head()\n",
    "# normalizer = dat['Adj Close'].tolist()[0:1]\n",
    "# normalizer\n",
    "#normalizer = dat.ix[0]\n",
    "#print(normalizer)\n",
    "# dat = dat.loc[:,\"CASI\":\"TLRY\"].div(dat.ix[0]).fillna(0)"
   ]
  },
  {
   "cell_type": "code",
   "execution_count": 17,
   "metadata": {},
   "outputs": [],
   "source": [
    "# need to do refer to this: https://keras.io/getting-started/functional-api-guide/"
   ]
  },
  {
   "cell_type": "code",
   "execution_count": 18,
   "metadata": {},
   "outputs": [],
   "source": [
    "## indexes to delete since symbols don't match\n",
    "# dfx = dat[0:10055].loc[:, \"CASI\":\"TLRY\"]\n",
    "# dfy = dat[1:10056].loc[:, \"CASI\":\"TLRY\"]\n",
    "# rm_i = (np.sum((np.array(dfx) == np.array(dfy)), axis = 1) > 3).tolist()\n",
    "# list(compress(rm_i, [not i for i in rm_i]))"
   ]
  },
  {
   "cell_type": "code",
   "execution_count": 19,
   "metadata": {},
   "outputs": [
    {
     "data": {
      "text/html": [
       "<div>\n",
       "<style scoped>\n",
       "    .dataframe tbody tr th:only-of-type {\n",
       "        vertical-align: middle;\n",
       "    }\n",
       "\n",
       "    .dataframe tbody tr th {\n",
       "        vertical-align: top;\n",
       "    }\n",
       "\n",
       "    .dataframe thead th {\n",
       "        text-align: right;\n",
       "    }\n",
       "</style>\n",
       "<table border=\"1\" class=\"dataframe\">\n",
       "  <thead>\n",
       "    <tr style=\"text-align: right;\">\n",
       "      <th></th>\n",
       "      <th>Adj Close</th>\n",
       "      <th>CASI</th>\n",
       "      <th>GOOG</th>\n",
       "      <th>MBOT</th>\n",
       "      <th>MSFT</th>\n",
       "      <th>TLRY</th>\n",
       "    </tr>\n",
       "  </thead>\n",
       "  <tbody>\n",
       "    <tr>\n",
       "      <th>0</th>\n",
       "      <td>0.000000</td>\n",
       "      <td>1</td>\n",
       "      <td>0</td>\n",
       "      <td>0</td>\n",
       "      <td>0</td>\n",
       "      <td>0</td>\n",
       "    </tr>\n",
       "    <tr>\n",
       "      <th>1</th>\n",
       "      <td>0.000000</td>\n",
       "      <td>0</td>\n",
       "      <td>1</td>\n",
       "      <td>0</td>\n",
       "      <td>0</td>\n",
       "      <td>0</td>\n",
       "    </tr>\n",
       "    <tr>\n",
       "      <th>2</th>\n",
       "      <td>0.000000</td>\n",
       "      <td>0</td>\n",
       "      <td>0</td>\n",
       "      <td>1</td>\n",
       "      <td>0</td>\n",
       "      <td>0</td>\n",
       "    </tr>\n",
       "    <tr>\n",
       "      <th>3</th>\n",
       "      <td>0.000000</td>\n",
       "      <td>0</td>\n",
       "      <td>0</td>\n",
       "      <td>0</td>\n",
       "      <td>1</td>\n",
       "      <td>0</td>\n",
       "    </tr>\n",
       "    <tr>\n",
       "      <th>4</th>\n",
       "      <td>0.000000</td>\n",
       "      <td>0</td>\n",
       "      <td>0</td>\n",
       "      <td>0</td>\n",
       "      <td>0</td>\n",
       "      <td>1</td>\n",
       "    </tr>\n",
       "    <tr>\n",
       "      <th>...</th>\n",
       "      <td>...</td>\n",
       "      <td>...</td>\n",
       "      <td>...</td>\n",
       "      <td>...</td>\n",
       "      <td>...</td>\n",
       "      <td>...</td>\n",
       "    </tr>\n",
       "    <tr>\n",
       "      <th>12565</th>\n",
       "      <td>0.777841</td>\n",
       "      <td>1</td>\n",
       "      <td>0</td>\n",
       "      <td>0</td>\n",
       "      <td>0</td>\n",
       "      <td>0</td>\n",
       "    </tr>\n",
       "    <tr>\n",
       "      <th>12566</th>\n",
       "      <td>1.929678</td>\n",
       "      <td>0</td>\n",
       "      <td>1</td>\n",
       "      <td>0</td>\n",
       "      <td>0</td>\n",
       "      <td>0</td>\n",
       "    </tr>\n",
       "    <tr>\n",
       "      <th>12567</th>\n",
       "      <td>-6.603544</td>\n",
       "      <td>0</td>\n",
       "      <td>0</td>\n",
       "      <td>1</td>\n",
       "      <td>0</td>\n",
       "      <td>0</td>\n",
       "    </tr>\n",
       "    <tr>\n",
       "      <th>12568</th>\n",
       "      <td>1.927697</td>\n",
       "      <td>0</td>\n",
       "      <td>0</td>\n",
       "      <td>0</td>\n",
       "      <td>1</td>\n",
       "      <td>0</td>\n",
       "    </tr>\n",
       "    <tr>\n",
       "      <th>12569</th>\n",
       "      <td>1.079372</td>\n",
       "      <td>0</td>\n",
       "      <td>0</td>\n",
       "      <td>0</td>\n",
       "      <td>0</td>\n",
       "      <td>1</td>\n",
       "    </tr>\n",
       "  </tbody>\n",
       "</table>\n",
       "<p>12570 rows × 6 columns</p>\n",
       "</div>"
      ],
      "text/plain": [
       "       Adj Close  CASI  GOOG  MBOT  MSFT  TLRY\n",
       "0       0.000000     1     0     0     0     0\n",
       "1       0.000000     0     1     0     0     0\n",
       "2       0.000000     0     0     1     0     0\n",
       "3       0.000000     0     0     0     1     0\n",
       "4       0.000000     0     0     0     0     1\n",
       "...          ...   ...   ...   ...   ...   ...\n",
       "12565   0.777841     1     0     0     0     0\n",
       "12566   1.929678     0     1     0     0     0\n",
       "12567  -6.603544     0     0     1     0     0\n",
       "12568   1.927697     0     0     0     1     0\n",
       "12569   1.079372     0     0     0     0     1\n",
       "\n",
       "[12570 rows x 6 columns]"
      ]
     },
     "execution_count": 19,
     "metadata": {},
     "output_type": "execute_result"
    }
   ],
   "source": [
    "dat"
   ]
  },
  {
   "cell_type": "code",
   "execution_count": 20,
   "metadata": {},
   "outputs": [
    {
     "name": "stdout",
     "output_type": "stream",
     "text": [
      "0:12564\n",
      "5:12569\n",
      "[[ 0.          1.          0.          0.          0.          0.        ]\n",
      " [ 0.          0.          1.          0.          0.          0.        ]\n",
      " [ 0.          0.          0.          1.          0.          0.        ]\n",
      " ...\n",
      " [ 1.95452091  0.          1.          0.          0.          0.        ]\n",
      " [-6.52476303  0.          0.          1.          0.          0.        ]\n",
      " [ 1.95775864  0.          0.          0.          1.          0.        ]]\n",
      "[[-1.17783036e-01  1.00000000e+00  0.00000000e+00  0.00000000e+00\n",
      "   0.00000000e+00  0.00000000e+00]\n",
      " [ 3.05824033e-03  0.00000000e+00  1.00000000e+00  0.00000000e+00\n",
      "   0.00000000e+00  0.00000000e+00]\n",
      " [-2.42927108e-02  0.00000000e+00  0.00000000e+00  1.00000000e+00\n",
      "   0.00000000e+00  0.00000000e+00]\n",
      " ...\n",
      " [ 1.92967792e+00  0.00000000e+00  1.00000000e+00  0.00000000e+00\n",
      "   0.00000000e+00  0.00000000e+00]\n",
      " [-6.60354390e+00  0.00000000e+00  0.00000000e+00  1.00000000e+00\n",
      "   0.00000000e+00  0.00000000e+00]\n",
      " [ 1.92769702e+00  0.00000000e+00  0.00000000e+00  0.00000000e+00\n",
      "   1.00000000e+00  0.00000000e+00]]\n"
     ]
    }
   ],
   "source": [
    "print(str(0)+\":\"+str((dat.shape[0]-dat.shape[1])))\n",
    "print(str(dat.shape[1]-1)+\":\"+str(dat.shape[0]-1))\n",
    "x = np.array(dat[0:(dat.shape[0]-dat.shape[1])])\n",
    "print(x)\n",
    "y = np.array(dat[(dat.shape[1]-1):(dat.shape[0]-1)])\n",
    "print(y)"
   ]
  },
  {
   "cell_type": "code",
   "execution_count": 21,
   "metadata": {},
   "outputs": [
    {
     "name": "stdout",
     "output_type": "stream",
     "text": [
      "(12564, 6)\n",
      "(12564, 6)\n"
     ]
    }
   ],
   "source": [
    "print(x.shape)\n",
    "print(y.shape)"
   ]
  },
  {
   "cell_type": "code",
   "execution_count": 22,
   "metadata": {},
   "outputs": [
    {
     "name": "stdout",
     "output_type": "stream",
     "text": [
      "(12564, 6)\n",
      "(12564, 6)\n"
     ]
    }
   ],
   "source": [
    "# rm_i = pd.Series(rm_i)\n",
    "\n",
    "# x = dat[0:10055]\n",
    "# y = dat[1:10056]\n",
    "\n",
    "# x = np.array(x[rm_i.values])\n",
    "# y = np.array(y[rm_i.values])\n",
    "\n",
    "print(x.shape)\n",
    "print(y.shape)"
   ]
  },
  {
   "cell_type": "code",
   "execution_count": 23,
   "metadata": {},
   "outputs": [
    {
     "data": {
      "text/plain": [
       "(12564, 1, 6)"
      ]
     },
     "execution_count": 23,
     "metadata": {},
     "output_type": "execute_result"
    }
   ],
   "source": [
    "x = x.reshape(x.shape[0], 1, 6)\n",
    "x.shape"
   ]
  },
  {
   "cell_type": "code",
   "execution_count": 24,
   "metadata": {},
   "outputs": [],
   "source": [
    "x_values = x[:,:,0:1]\n",
    "y = y[:,0:1]\n",
    "x_symb = x[:,0,1:6]"
   ]
  },
  {
   "cell_type": "code",
   "execution_count": 25,
   "metadata": {},
   "outputs": [
    {
     "name": "stdout",
     "output_type": "stream",
     "text": [
      "(12564, 1, 1)\n",
      "(12564, 5)\n",
      "(12564, 1)\n",
      "(5,)\n"
     ]
    }
   ],
   "source": [
    "print(x_values.shape)\n",
    "print(x_symb.shape)\n",
    "print(y.shape)\n",
    "print(x_symb.shape[1:2])"
   ]
  },
  {
   "cell_type": "code",
   "execution_count": 26,
   "metadata": {},
   "outputs": [
    {
     "data": {
      "text/plain": [
       "(array([ 299.,   95.,  210.,   90.,  252.,  865.,  117., 4745., 3727.,\n",
       "        2164.]),\n",
       " array([-7.80569687, -6.79936299, -5.79302911, -4.78669522, -3.78036134,\n",
       "        -2.77402746, -1.76769358, -0.76135969,  0.24497419,  1.25130807,\n",
       "         2.25764195]),\n",
       " <a list of 10 Patch objects>)"
      ]
     },
     "execution_count": 26,
     "metadata": {},
     "output_type": "execute_result"
    },
    {
     "data": {
      "image/png": "[encoded data removed]",
      "text/plain": [
       "<Figure size 432x288 with 1 Axes>"
      ]
     },
     "metadata": {
      "needs_background": "light"
     },
     "output_type": "display_data"
    }
   ],
   "source": [
    "plt.hist(x_values[:,0,0])"
   ]
  },
  {
   "cell_type": "code",
   "execution_count": 27,
   "metadata": {},
   "outputs": [
    {
     "data": {
      "text/plain": [
       "(array([ 299.,   96.,  210.,   90.,  252.,  865.,  117., 4740., 3729.,\n",
       "        2166.]),\n",
       " array([-7.80569687, -6.79936299, -5.79302911, -4.78669522, -3.78036134,\n",
       "        -2.77402746, -1.76769358, -0.76135969,  0.24497419,  1.25130807,\n",
       "         2.25764195]),\n",
       " <a list of 10 Patch objects>)"
      ]
     },
     "execution_count": 27,
     "metadata": {},
     "output_type": "execute_result"
    },
    {
     "data": {
      "image/png": "[encoded data removed]",
      "text/plain": [
       "<Figure size 432x288 with 1 Axes>"
      ]
     },
     "metadata": {
      "needs_background": "light"
     },
     "output_type": "display_data"
    }
   ],
   "source": [
    "plt.hist(y[:,0])"
   ]
  },
  {
   "cell_type": "code",
   "execution_count": 28,
   "metadata": {},
   "outputs": [],
   "source": [
    "# from keras import backend as K\n",
    "# K.clear_session()"
   ]
  },
  {
   "cell_type": "code",
   "execution_count": 29,
   "metadata": {},
   "outputs": [],
   "source": [
    "LSTM_cell = LSTM(1, return_state = True)\n",
    "densor_a = Dense(1, activation = 'linear', name = 'lstm_output')\n",
    "densor_b = Dense(5, activation = 'relu')\n",
    "densor_c = Dense(1, activation = 'linear', name = 'main_output')"
   ]
  },
  {
   "cell_type": "code",
   "execution_count": 30,
   "metadata": {
    "scrolled": true
   },
   "outputs": [
    {
     "name": "stdout",
     "output_type": "stream",
     "text": [
      "Tensor(\"main_input:0\", shape=(?, 1, 1), dtype=float32)\n",
      "Tensor(\"aux_input:0\", shape=(?, 5), dtype=float32)\n"
     ]
    }
   ],
   "source": [
    "main_input = Input(shape = x_values.shape[1:3], name = 'main_input')\n",
    "aux_input = Input(shape = (x_symb.shape[1:2]), name = 'aux_input')\n",
    "print(main_input)\n",
    "print(aux_input)\n",
    "\n",
    "a,_,c = LSTM_cell(main_input)\n",
    "# print(lstm)\n",
    "lstm_out = densor_a(a)\n",
    "# print(lstm_out)\n",
    "concat = concatenate([lstm_out, aux_input])\n",
    "# print(concat)\n",
    "dense = densor_b(concat)\n",
    "# print(dense)\n",
    "main_output = densor_c(dense)\n",
    "# print(main_output)"
   ]
  },
  {
   "cell_type": "code",
   "execution_count": 31,
   "metadata": {},
   "outputs": [
    {
     "name": "stdout",
     "output_type": "stream",
     "text": [
      "<keras.engine.training.Model object at 0x7f4f4f897b38>\n"
     ]
    }
   ],
   "source": [
    "model = Model(inputs=[main_input, aux_input], outputs=[main_output, lstm_out])\n",
    "print(model)"
   ]
  },
  {
   "cell_type": "code",
   "execution_count": 32,
   "metadata": {},
   "outputs": [
    {
     "name": "stdout",
     "output_type": "stream",
     "text": [
      "<keras.engine.training.Model object at 0x7f4f4f897b38>\n"
     ]
    }
   ],
   "source": [
    "model.compile(loss = 'mean_squared_error', optimizer = 'adam')\n",
    "print(model)"
   ]
  },
  {
   "cell_type": "code",
   "execution_count": 33,
   "metadata": {},
   "outputs": [
    {
     "name": "stdout",
     "output_type": "stream",
     "text": [
      "Epoch 1/1\n",
      "12564/12564 [==============================] - 7s 568us/step - loss: 3.6328 - main_output_loss: 1.0395 - lstm_output_loss: 2.5933\n",
      "Epoch 1/1\n",
      "12564/12564 [==============================] - 7s 527us/step - loss: 2.1458 - main_output_loss: 0.1432 - lstm_output_loss: 2.0026\n",
      "Epoch 1/1\n",
      "12564/12564 [==============================] - 7s 525us/step - loss: 1.5887 - main_output_loss: 0.1349 - lstm_output_loss: 1.4538\n",
      "Epoch 1/1\n",
      "12564/12564 [==============================] - 7s 527us/step - loss: 1.1363 - main_output_loss: 0.1279 - lstm_output_loss: 1.0084\n",
      "Epoch 1/1\n",
      "12564/12564 [==============================] - 7s 523us/step - loss: 0.7773 - main_output_loss: 0.1075 - lstm_output_loss: 0.6698\n",
      "Epoch 1/1\n",
      "12564/12564 [==============================] - 7s 519us/step - loss: 0.5075 - main_output_loss: 0.0792 - lstm_output_loss: 0.4283\n",
      "Epoch 1/1\n",
      "12564/12564 [==============================] - 7s 518us/step - loss: 0.3083 - main_output_loss: 0.0490 - lstm_output_loss: 0.2593\n",
      "Epoch 1/1\n",
      "12564/12564 [==============================] - 7s 524us/step - loss: 0.1761 - main_output_loss: 0.0263 - lstm_output_loss: 0.1497\n",
      "Epoch 1/1\n",
      "12564/12564 [==============================] - 7s 530us/step - loss: 0.0930 - main_output_loss: 0.0142 - lstm_output_loss: 0.0788\n",
      "Epoch 1/1\n",
      "12564/12564 [==============================] - 7s 531us/step - loss: 0.0465 - main_output_loss: 0.0087 - lstm_output_loss: 0.0378\n",
      "Epoch 1/1\n",
      "12564/12564 [==============================] - 7s 525us/step - loss: 0.0229 - main_output_loss: 0.0058 - lstm_output_loss: 0.0171\n",
      "Epoch 1/1\n",
      "12564/12564 [==============================] - 7s 525us/step - loss: 0.0131 - main_output_loss: 0.0047 - lstm_output_loss: 0.0083\n",
      "Epoch 1/1\n",
      "12564/12564 [==============================] - 7s 531us/step - loss: 0.0090 - main_output_loss: 0.0039 - lstm_output_loss: 0.0051\n",
      "Epoch 1/1\n",
      "12564/12564 [==============================] - 7s 529us/step - loss: 0.0075 - main_output_loss: 0.0037 - lstm_output_loss: 0.0038\n",
      "Epoch 1/1\n",
      "12564/12564 [==============================] - 7s 527us/step - loss: 0.0068 - main_output_loss: 0.0036 - lstm_output_loss: 0.0032\n",
      "Epoch 1/1\n",
      "12564/12564 [==============================] - 7s 524us/step - loss: 0.0062 - main_output_loss: 0.0033 - lstm_output_loss: 0.0029\n",
      "Epoch 1/1\n",
      "12564/12564 [==============================] - 7s 534us/step - loss: 0.0060 - main_output_loss: 0.0032 - lstm_output_loss: 0.0028\n",
      "Epoch 1/1\n",
      "12564/12564 [==============================] - 7s 530us/step - loss: 0.0060 - main_output_loss: 0.0033 - lstm_output_loss: 0.0027\n",
      "Epoch 1/1\n",
      "12564/12564 [==============================] - 7s 527us/step - loss: 0.0057 - main_output_loss: 0.0031 - lstm_output_loss: 0.0027\n",
      "Epoch 1/1\n",
      "12564/12564 [==============================] - 7s 522us/step - loss: 0.0058 - main_output_loss: 0.0031 - lstm_output_loss: 0.0026\n"
     ]
    }
   ],
   "source": [
    "# need to understand why this is creating nans\n",
    "\n",
    "# need to create separate validation set\n",
    "for i in range(20): # can create a function instead, if prefer\n",
    "        model.fit(x = [x_values, x_symb], y = [y, y], epochs = 1, batch_size = 4) # use batch size 1 for each day\n",
    "        model.reset_states()"
   ]
  },
  {
   "cell_type": "code",
   "execution_count": 34,
   "metadata": {},
   "outputs": [
    {
     "data": {
      "text/plain": [
       "<keras.engine.training.Model at 0x7f4f4f897b38>"
      ]
     },
     "execution_count": 34,
     "metadata": {},
     "output_type": "execute_result"
    }
   ],
   "source": [
    "model"
   ]
  },
  {
   "cell_type": "code",
   "execution_count": 35,
   "metadata": {},
   "outputs": [
    {
     "name": "stdout",
     "output_type": "stream",
     "text": [
      "(12564, 1, 1)\n",
      "(12570, 6)\n",
      "       Adj Close  CASI  GOOG  MBOT  MSFT  TLRY\n",
      "0       0.000000     1     0     0     0     0\n",
      "1       0.000000     0     1     0     0     0\n",
      "2       0.000000     0     0     1     0     0\n",
      "3       0.000000     0     0     0     1     0\n",
      "4       0.000000     0     0     0     0     1\n",
      "...          ...   ...   ...   ...   ...   ...\n",
      "12565   0.777841     1     0     0     0     0\n",
      "12566   1.929678     0     1     0     0     0\n",
      "12567  -6.603544     0     0     1     0     0\n",
      "12568   1.927697     0     0     0     1     0\n",
      "12569   1.079372     0     0     0     0     1\n",
      "\n",
      "[12570 rows x 6 columns]\n"
     ]
    }
   ],
   "source": [
    "print(x_values.shape)\n",
    "print(dat.shape)\n",
    "print(dat)"
   ]
  },
  {
   "cell_type": "code",
   "execution_count": 36,
   "metadata": {},
   "outputs": [
    {
     "name": "stdout",
     "output_type": "stream",
     "text": [
      "(12564, 5)\n",
      "[[1. 0. 0. 0. 0.]\n",
      " [0. 1. 0. 0. 0.]\n",
      " [0. 0. 1. 0. 0.]\n",
      " ...\n",
      " [0. 1. 0. 0. 0.]\n",
      " [0. 0. 1. 0. 0.]\n",
      " [0. 0. 0. 1. 0.]]\n",
      "[0. 1. 0. ... 1. 0. 0.]\n",
      "[False  True False ...  True False False]\n"
     ]
    }
   ],
   "source": [
    "print(x_symb.shape)\n",
    "print(x_symb)\n",
    "print(x_symb[:,1])\n",
    "print(x_symb[:,1]==1)"
   ]
  },
  {
   "cell_type": "code",
   "execution_count": 37,
   "metadata": {},
   "outputs": [],
   "source": [
    "pred = model.predict([x_values, x_symb])"
   ]
  },
  {
   "cell_type": "code",
   "execution_count": 38,
   "metadata": {},
   "outputs": [
    {
     "data": {
      "text/plain": [
       "[array([[-1.0793434e-02],\n",
       "        [ 3.2546059e-03],\n",
       "        [-4.3578609e-03],\n",
       "        ...,\n",
       "        [ 1.9662027e+00],\n",
       "        [-6.5629621e+00],\n",
       "        [ 1.9722036e+00]], dtype=float32), array([[-1.0724068e-03],\n",
       "        [-1.0724068e-03],\n",
       "        [-1.0724068e-03],\n",
       "        ...,\n",
       "        [ 1.9475894e+00],\n",
       "        [-6.5119429e+00],\n",
       "        [ 1.9508166e+00]], dtype=float32)]"
      ]
     },
     "execution_count": 38,
     "metadata": {},
     "output_type": "execute_result"
    }
   ],
   "source": [
    "pred"
   ]
  },
  {
   "cell_type": "code",
   "execution_count": 39,
   "metadata": {},
   "outputs": [
    {
     "data": {
      "text/plain": [
       "[<matplotlib.lines.Line2D at 0x7f4f4bca1ba8>]"
      ]
     },
     "execution_count": 39,
     "metadata": {},
     "output_type": "execute_result"
    },
    {
     "data": {
      "image/png": "[encoded data removed]",
      "text/plain": [
       "<Figure size 432x288 with 1 Axes>"
      ]
     },
     "metadata": {
      "needs_background": "light"
     },
     "output_type": "display_data"
    }
   ],
   "source": [
    "plt.plot(np.array(range(len(pred[1]))), pred[1])"
   ]
  },
  {
   "cell_type": "code",
   "execution_count": 40,
   "metadata": {},
   "outputs": [
    {
     "data": {
      "text/plain": [
       "[<matplotlib.lines.Line2D at 0x7f4f4b4777b8>]"
      ]
     },
     "execution_count": 40,
     "metadata": {},
     "output_type": "execute_result"
    },
    {
     "data": {
      "image/png": "[encoded data removed]",
      "text/plain": [
       "<Figure size 432x288 with 1 Axes>"
      ]
     },
     "metadata": {
      "needs_background": "light"
     },
     "output_type": "display_data"
    }
   ],
   "source": [
    "stock_i = 0\n",
    "\n",
    "plt.plot(np.array(range(len(pred[1][x_symb[:,stock_i]==1]))), pred[1][x_symb[:,stock_i]==1], color = 'red')"
   ]
  },
  {
   "cell_type": "code",
   "execution_count": 41,
   "metadata": {},
   "outputs": [
    {
     "data": {
      "text/html": [
       "<div>\n",
       "<style scoped>\n",
       "    .dataframe tbody tr th:only-of-type {\n",
       "        vertical-align: middle;\n",
       "    }\n",
       "\n",
       "    .dataframe tbody tr th {\n",
       "        vertical-align: top;\n",
       "    }\n",
       "\n",
       "    .dataframe thead th {\n",
       "        text-align: right;\n",
       "    }\n",
       "</style>\n",
       "<table border=\"1\" class=\"dataframe\">\n",
       "  <thead>\n",
       "    <tr style=\"text-align: right;\">\n",
       "      <th></th>\n",
       "      <th>Adj Close</th>\n",
       "      <th>CASI</th>\n",
       "      <th>GOOG</th>\n",
       "      <th>MBOT</th>\n",
       "      <th>MSFT</th>\n",
       "      <th>TLRY</th>\n",
       "    </tr>\n",
       "  </thead>\n",
       "  <tbody>\n",
       "    <tr>\n",
       "      <th>0</th>\n",
       "      <td>0.000000</td>\n",
       "      <td>1</td>\n",
       "      <td>0</td>\n",
       "      <td>0</td>\n",
       "      <td>0</td>\n",
       "      <td>0</td>\n",
       "    </tr>\n",
       "    <tr>\n",
       "      <th>1</th>\n",
       "      <td>0.000000</td>\n",
       "      <td>0</td>\n",
       "      <td>1</td>\n",
       "      <td>0</td>\n",
       "      <td>0</td>\n",
       "      <td>0</td>\n",
       "    </tr>\n",
       "    <tr>\n",
       "      <th>2</th>\n",
       "      <td>0.000000</td>\n",
       "      <td>0</td>\n",
       "      <td>0</td>\n",
       "      <td>1</td>\n",
       "      <td>0</td>\n",
       "      <td>0</td>\n",
       "    </tr>\n",
       "    <tr>\n",
       "      <th>3</th>\n",
       "      <td>0.000000</td>\n",
       "      <td>0</td>\n",
       "      <td>0</td>\n",
       "      <td>0</td>\n",
       "      <td>1</td>\n",
       "      <td>0</td>\n",
       "    </tr>\n",
       "    <tr>\n",
       "      <th>4</th>\n",
       "      <td>0.000000</td>\n",
       "      <td>0</td>\n",
       "      <td>0</td>\n",
       "      <td>0</td>\n",
       "      <td>0</td>\n",
       "      <td>1</td>\n",
       "    </tr>\n",
       "    <tr>\n",
       "      <th>...</th>\n",
       "      <td>...</td>\n",
       "      <td>...</td>\n",
       "      <td>...</td>\n",
       "      <td>...</td>\n",
       "      <td>...</td>\n",
       "      <td>...</td>\n",
       "    </tr>\n",
       "    <tr>\n",
       "      <th>12565</th>\n",
       "      <td>0.777841</td>\n",
       "      <td>1</td>\n",
       "      <td>0</td>\n",
       "      <td>0</td>\n",
       "      <td>0</td>\n",
       "      <td>0</td>\n",
       "    </tr>\n",
       "    <tr>\n",
       "      <th>12566</th>\n",
       "      <td>1.929678</td>\n",
       "      <td>0</td>\n",
       "      <td>1</td>\n",
       "      <td>0</td>\n",
       "      <td>0</td>\n",
       "      <td>0</td>\n",
       "    </tr>\n",
       "    <tr>\n",
       "      <th>12567</th>\n",
       "      <td>-6.603544</td>\n",
       "      <td>0</td>\n",
       "      <td>0</td>\n",
       "      <td>1</td>\n",
       "      <td>0</td>\n",
       "      <td>0</td>\n",
       "    </tr>\n",
       "    <tr>\n",
       "      <th>12568</th>\n",
       "      <td>1.927697</td>\n",
       "      <td>0</td>\n",
       "      <td>0</td>\n",
       "      <td>0</td>\n",
       "      <td>1</td>\n",
       "      <td>0</td>\n",
       "    </tr>\n",
       "    <tr>\n",
       "      <th>12569</th>\n",
       "      <td>1.079372</td>\n",
       "      <td>0</td>\n",
       "      <td>0</td>\n",
       "      <td>0</td>\n",
       "      <td>0</td>\n",
       "      <td>1</td>\n",
       "    </tr>\n",
       "  </tbody>\n",
       "</table>\n",
       "<p>12570 rows × 6 columns</p>\n",
       "</div>"
      ],
      "text/plain": [
       "       Adj Close  CASI  GOOG  MBOT  MSFT  TLRY\n",
       "0       0.000000     1     0     0     0     0\n",
       "1       0.000000     0     1     0     0     0\n",
       "2       0.000000     0     0     1     0     0\n",
       "3       0.000000     0     0     0     1     0\n",
       "4       0.000000     0     0     0     0     1\n",
       "...          ...   ...   ...   ...   ...   ...\n",
       "12565   0.777841     1     0     0     0     0\n",
       "12566   1.929678     0     1     0     0     0\n",
       "12567  -6.603544     0     0     1     0     0\n",
       "12568   1.927697     0     0     0     1     0\n",
       "12569   1.079372     0     0     0     0     1\n",
       "\n",
       "[12570 rows x 6 columns]"
      ]
     },
     "execution_count": 41,
     "metadata": {},
     "output_type": "execute_result"
    }
   ],
   "source": [
    "dat"
   ]
  },
  {
   "cell_type": "code",
   "execution_count": 42,
   "metadata": {},
   "outputs": [],
   "source": [
    "# test = Input(shape=(1, 1))\n",
    "# a0 = Input(shape=(1,), name='a0')\n",
    "# c0 = Input(shape=(1,), name='c0')\n",
    "# LSTM_cell(test, initial_state = [a0, c0])"
   ]
  },
  {
   "cell_type": "code",
   "execution_count": 43,
   "metadata": {},
   "outputs": [],
   "source": [
    "## why does that work^ how to parse out a and c?"
   ]
  },
  {
   "cell_type": "code",
   "execution_count": 44,
   "metadata": {},
   "outputs": [],
   "source": [
    "reshaper = Reshape((1,1))"
   ]
  },
  {
   "cell_type": "code",
   "execution_count": 45,
   "metadata": {},
   "outputs": [
    {
     "name": "stdout",
     "output_type": "stream",
     "text": [
      "main: Tensor(\"reshape_1/Reshape:0\", shape=(?, 1, 1), dtype=float32)\n",
      "main: Tensor(\"reshape_1_1/Reshape:0\", shape=(?, 1, 1), dtype=float32)\n",
      "main: Tensor(\"reshape_1_2/Reshape:0\", shape=(?, 1, 1), dtype=float32)\n",
      "main: Tensor(\"reshape_1_3/Reshape:0\", shape=(?, 1, 1), dtype=float32)\n",
      "main: Tensor(\"reshape_1_4/Reshape:0\", shape=(?, 1, 1), dtype=float32)\n",
      "main: Tensor(\"reshape_1_5/Reshape:0\", shape=(?, 1, 1), dtype=float32)\n",
      "main: Tensor(\"reshape_1_6/Reshape:0\", shape=(?, 1, 1), dtype=float32)\n",
      "main: Tensor(\"reshape_1_7/Reshape:0\", shape=(?, 1, 1), dtype=float32)\n",
      "main: Tensor(\"reshape_1_8/Reshape:0\", shape=(?, 1, 1), dtype=float32)\n",
      "main: Tensor(\"reshape_1_9/Reshape:0\", shape=(?, 1, 1), dtype=float32)\n",
      "main: Tensor(\"reshape_1_10/Reshape:0\", shape=(?, 1, 1), dtype=float32)\n",
      "main: Tensor(\"reshape_1_11/Reshape:0\", shape=(?, 1, 1), dtype=float32)\n",
      "main: Tensor(\"reshape_1_12/Reshape:0\", shape=(?, 1, 1), dtype=float32)\n",
      "main: Tensor(\"reshape_1_13/Reshape:0\", shape=(?, 1, 1), dtype=float32)\n",
      "main: Tensor(\"reshape_1_14/Reshape:0\", shape=(?, 1, 1), dtype=float32)\n",
      "main: Tensor(\"reshape_1_15/Reshape:0\", shape=(?, 1, 1), dtype=float32)\n",
      "main: Tensor(\"reshape_1_16/Reshape:0\", shape=(?, 1, 1), dtype=float32)\n",
      "main: Tensor(\"reshape_1_17/Reshape:0\", shape=(?, 1, 1), dtype=float32)\n",
      "main: Tensor(\"reshape_1_18/Reshape:0\", shape=(?, 1, 1), dtype=float32)\n",
      "main: Tensor(\"reshape_1_19/Reshape:0\", shape=(?, 1, 1), dtype=float32)\n",
      "main: Tensor(\"reshape_1_20/Reshape:0\", shape=(?, 1, 1), dtype=float32)\n",
      "main: Tensor(\"reshape_1_21/Reshape:0\", shape=(?, 1, 1), dtype=float32)\n",
      "main: Tensor(\"reshape_1_22/Reshape:0\", shape=(?, 1, 1), dtype=float32)\n",
      "main: Tensor(\"reshape_1_23/Reshape:0\", shape=(?, 1, 1), dtype=float32)\n",
      "main: Tensor(\"reshape_1_24/Reshape:0\", shape=(?, 1, 1), dtype=float32)\n",
      "main: Tensor(\"reshape_1_25/Reshape:0\", shape=(?, 1, 1), dtype=float32)\n",
      "main: Tensor(\"reshape_1_26/Reshape:0\", shape=(?, 1, 1), dtype=float32)\n",
      "main: Tensor(\"reshape_1_27/Reshape:0\", shape=(?, 1, 1), dtype=float32)\n",
      "main: Tensor(\"reshape_1_28/Reshape:0\", shape=(?, 1, 1), dtype=float32)\n",
      "main: Tensor(\"reshape_1_29/Reshape:0\", shape=(?, 1, 1), dtype=float32)\n",
      "main: Tensor(\"reshape_1_30/Reshape:0\", shape=(?, 1, 1), dtype=float32)\n",
      "main: Tensor(\"reshape_1_31/Reshape:0\", shape=(?, 1, 1), dtype=float32)\n",
      "main: Tensor(\"reshape_1_32/Reshape:0\", shape=(?, 1, 1), dtype=float32)\n",
      "main: Tensor(\"reshape_1_33/Reshape:0\", shape=(?, 1, 1), dtype=float32)\n",
      "main: Tensor(\"reshape_1_34/Reshape:0\", shape=(?, 1, 1), dtype=float32)\n",
      "main: Tensor(\"reshape_1_35/Reshape:0\", shape=(?, 1, 1), dtype=float32)\n",
      "main: Tensor(\"reshape_1_36/Reshape:0\", shape=(?, 1, 1), dtype=float32)\n",
      "main: Tensor(\"reshape_1_37/Reshape:0\", shape=(?, 1, 1), dtype=float32)\n",
      "main: Tensor(\"reshape_1_38/Reshape:0\", shape=(?, 1, 1), dtype=float32)\n",
      "main: Tensor(\"reshape_1_39/Reshape:0\", shape=(?, 1, 1), dtype=float32)\n"
     ]
    }
   ],
   "source": [
    "main0 = Input(shape=(1, 1))\n",
    "aux0 = Input(shape=(5,))\n",
    "\n",
    "# Define s0, initial hidden state for the decoder LSTM\n",
    "a0 = Input(shape=(1,), name='a0')\n",
    "c0 = Input(shape=(1,), name='c0')\n",
    "\n",
    "a = a0\n",
    "c = c0\n",
    "main = main0\n",
    "aux = aux0\n",
    "\n",
    "# print(\"main: \" + str(K.int_shape(main)))\n",
    "\n",
    "predictions = []\n",
    "\n",
    "\n",
    "# # do i need a lambda function?\n",
    "for i in range(40):\n",
    "\n",
    "    a, _, c = LSTM_cell(main, initial_state = [a,c])\n",
    "    # print(\"a: \" + str(K.int_shape(a)))\n",
    "    # print(\"c: \" + str(K.int_shape(c)))\n",
    "    lstm_output2 = Dense(1, activation='relu', name='lstm_output2')(a)\n",
    "    # print(\"lstm_output2: \" + str(K.int_shape(lstm_output2)))\n",
    "    concat2 = concatenate([lstm_output2, aux])\n",
    "    # print(\"concat2: \" + str(K.int_shape(concat2)))\n",
    "    dense = Dense(5, activation='relu', name='relu_output')(concat2)\n",
    "    # print(\"dense: \" + str(K.int_shape(dense)))\n",
    "    main_output2 = Dense(1, activation='linear', name='main_output')(dense)\n",
    "    # print(\"main_output2: \" + str(K.int_shape(main_output2)))\n",
    "    predictions.append(main_output2)\n",
    "    main = reshaper(main_output2)\n",
    "    print(\"main: \" + str(main))\n",
    "    ## need to reshape this"
   ]
  },
  {
   "cell_type": "code",
   "execution_count": 60,
   "metadata": {},
   "outputs": [
    {
     "ename": "ValueError",
     "evalue": "Graph disconnected: cannot obtain value for tensor Tensor(\"a0:0\", shape=(?, 1), dtype=float32) at layer \"a0\". The following previous layers were accessed without issue: ['input_1']",
     "output_type": "error",
     "traceback": [
      "\u001b[0;31m---------------------------------------------------------------------------\u001b[0m",
      "\u001b[0;31mValueError\u001b[0m                                Traceback (most recent call last)",
      "\u001b[0;32m<ipython-input-60-43c887f9a66e>\u001b[0m in \u001b[0;36m<module>\u001b[0;34m\u001b[0m\n\u001b[0;32m----> 1\u001b[0;31m \u001b[0mmodel2\u001b[0m \u001b[0;34m=\u001b[0m \u001b[0mModel\u001b[0m\u001b[0;34m(\u001b[0m\u001b[0minputs\u001b[0m \u001b[0;34m=\u001b[0m \u001b[0;34m[\u001b[0m\u001b[0mmain0\u001b[0m\u001b[0;34m,\u001b[0m \u001b[0maux0\u001b[0m\u001b[0;34m]\u001b[0m\u001b[0;34m,\u001b[0m \u001b[0moutputs\u001b[0m \u001b[0;34m=\u001b[0m \u001b[0mpredictions\u001b[0m\u001b[0;34m)\u001b[0m\u001b[0;34m\u001b[0m\u001b[0;34m\u001b[0m\u001b[0m\n\u001b[0m",
      "\u001b[0;32m~/.local/lib/python3.6/site-packages/keras/legacy/interfaces.py\u001b[0m in \u001b[0;36mwrapper\u001b[0;34m(*args, **kwargs)\u001b[0m\n\u001b[1;32m     89\u001b[0m                 warnings.warn('Update your `' + object_name + '` call to the ' +\n\u001b[1;32m     90\u001b[0m                               'Keras 2 API: ' + signature, stacklevel=2)\n\u001b[0;32m---> 91\u001b[0;31m             \u001b[0;32mreturn\u001b[0m \u001b[0mfunc\u001b[0m\u001b[0;34m(\u001b[0m\u001b[0;34m*\u001b[0m\u001b[0margs\u001b[0m\u001b[0;34m,\u001b[0m \u001b[0;34m**\u001b[0m\u001b[0mkwargs\u001b[0m\u001b[0;34m)\u001b[0m\u001b[0;34m\u001b[0m\u001b[0;34m\u001b[0m\u001b[0m\n\u001b[0m\u001b[1;32m     92\u001b[0m         \u001b[0mwrapper\u001b[0m\u001b[0;34m.\u001b[0m\u001b[0m_original_function\u001b[0m \u001b[0;34m=\u001b[0m \u001b[0mfunc\u001b[0m\u001b[0;34m\u001b[0m\u001b[0;34m\u001b[0m\u001b[0m\n\u001b[1;32m     93\u001b[0m         \u001b[0;32mreturn\u001b[0m \u001b[0mwrapper\u001b[0m\u001b[0;34m\u001b[0m\u001b[0;34m\u001b[0m\u001b[0m\n",
      "\u001b[0;32m~/.local/lib/python3.6/site-packages/keras/engine/network.py\u001b[0m in \u001b[0;36m__init__\u001b[0;34m(self, *args, **kwargs)\u001b[0m\n\u001b[1;32m     91\u001b[0m                 'inputs' in kwargs and 'outputs' in kwargs):\n\u001b[1;32m     92\u001b[0m             \u001b[0;31m# Graph network\u001b[0m\u001b[0;34m\u001b[0m\u001b[0;34m\u001b[0m\u001b[0;34m\u001b[0m\u001b[0m\n\u001b[0;32m---> 93\u001b[0;31m             \u001b[0mself\u001b[0m\u001b[0;34m.\u001b[0m\u001b[0m_init_graph_network\u001b[0m\u001b[0;34m(\u001b[0m\u001b[0;34m*\u001b[0m\u001b[0margs\u001b[0m\u001b[0;34m,\u001b[0m \u001b[0;34m**\u001b[0m\u001b[0mkwargs\u001b[0m\u001b[0;34m)\u001b[0m\u001b[0;34m\u001b[0m\u001b[0;34m\u001b[0m\u001b[0m\n\u001b[0m\u001b[1;32m     94\u001b[0m         \u001b[0;32melse\u001b[0m\u001b[0;34m:\u001b[0m\u001b[0;34m\u001b[0m\u001b[0;34m\u001b[0m\u001b[0m\n\u001b[1;32m     95\u001b[0m             \u001b[0;31m# Subclassed network\u001b[0m\u001b[0;34m\u001b[0m\u001b[0;34m\u001b[0m\u001b[0;34m\u001b[0m\u001b[0m\n",
      "\u001b[0;32m~/.local/lib/python3.6/site-packages/keras/engine/network.py\u001b[0m in \u001b[0;36m_init_graph_network\u001b[0;34m(self, inputs, outputs, name)\u001b[0m\n\u001b[1;32m    229\u001b[0m         \u001b[0;31m# Keep track of the network's nodes and layers.\u001b[0m\u001b[0;34m\u001b[0m\u001b[0;34m\u001b[0m\u001b[0;34m\u001b[0m\u001b[0m\n\u001b[1;32m    230\u001b[0m         nodes, nodes_by_depth, layers, layers_by_depth = _map_graph_network(\n\u001b[0;32m--> 231\u001b[0;31m             self.inputs, self.outputs)\n\u001b[0m\u001b[1;32m    232\u001b[0m         \u001b[0mself\u001b[0m\u001b[0;34m.\u001b[0m\u001b[0m_network_nodes\u001b[0m \u001b[0;34m=\u001b[0m \u001b[0mnodes\u001b[0m\u001b[0;34m\u001b[0m\u001b[0;34m\u001b[0m\u001b[0m\n\u001b[1;32m    233\u001b[0m         \u001b[0mself\u001b[0m\u001b[0;34m.\u001b[0m\u001b[0m_nodes_by_depth\u001b[0m \u001b[0;34m=\u001b[0m \u001b[0mnodes_by_depth\u001b[0m\u001b[0;34m\u001b[0m\u001b[0;34m\u001b[0m\u001b[0m\n",
      "\u001b[0;32m~/.local/lib/python3.6/site-packages/keras/engine/network.py\u001b[0m in \u001b[0;36m_map_graph_network\u001b[0;34m(inputs, outputs)\u001b[0m\n\u001b[1;32m   1441\u001b[0m                                          \u001b[0;34m'The following previous layers '\u001b[0m\u001b[0;34m\u001b[0m\u001b[0;34m\u001b[0m\u001b[0m\n\u001b[1;32m   1442\u001b[0m                                          \u001b[0;34m'were accessed without issue: '\u001b[0m \u001b[0;34m+\u001b[0m\u001b[0;34m\u001b[0m\u001b[0;34m\u001b[0m\u001b[0m\n\u001b[0;32m-> 1443\u001b[0;31m                                          str(layers_with_complete_input))\n\u001b[0m\u001b[1;32m   1444\u001b[0m                 \u001b[0;32mfor\u001b[0m \u001b[0mx\u001b[0m \u001b[0;32min\u001b[0m \u001b[0mnode\u001b[0m\u001b[0;34m.\u001b[0m\u001b[0moutput_tensors\u001b[0m\u001b[0;34m:\u001b[0m\u001b[0;34m\u001b[0m\u001b[0;34m\u001b[0m\u001b[0m\n\u001b[1;32m   1445\u001b[0m                     \u001b[0mcomputable_tensors\u001b[0m\u001b[0;34m.\u001b[0m\u001b[0mappend\u001b[0m\u001b[0;34m(\u001b[0m\u001b[0mx\u001b[0m\u001b[0;34m)\u001b[0m\u001b[0;34m\u001b[0m\u001b[0;34m\u001b[0m\u001b[0m\n",
      "\u001b[0;31mValueError\u001b[0m: Graph disconnected: cannot obtain value for tensor Tensor(\"a0:0\", shape=(?, 1), dtype=float32) at layer \"a0\". The following previous layers were accessed without issue: ['input_1']"
     ]
    }
   ],
   "source": [
    "model2 = Model(inputs = [main0, aux0], outputs = predictions)"
   ]
  },
  {
   "cell_type": "code",
   "execution_count": 55,
   "metadata": {},
   "outputs": [],
   "source": [
    "pred2 = model.predict([x_values, x_symb])"
   ]
  },
  {
   "cell_type": "code",
   "execution_count": 58,
   "metadata": {},
   "outputs": [
    {
     "data": {
      "text/plain": [
       "[<matplotlib.lines.Line2D at 0x7f4f0e02d400>]"
      ]
     },
     "execution_count": 58,
     "metadata": {},
     "output_type": "execute_result"
    },
    {
     "data": {
      "image/png": "[encoded data removed]",
      "text/plain": [
       "<Figure size 432x288 with 1 Axes>"
      ]
     },
     "metadata": {
      "needs_background": "light"
     },
     "output_type": "display_data"
    }
   ],
   "source": [
    "stock_i = 0\n",
    "\n",
    "plt.plot(np.array(range(len(pred2[1][x_symb[:,stock_i]==1]))), pred2[1][x_symb[:,stock_i]==1], color = 'red')"
   ]
  }
 ],
 "metadata": {
  "kernelspec": {
   "display_name": "Python 3",
   "language": "python",
   "name": "python3"
  },
  "language_info": {
   "codemirror_mode": {
    "name": "ipython",
    "version": 3
   },
   "file_extension": ".py",
   "mimetype": "text/x-python",
   "name": "python",
   "nbconvert_exporter": "python",
   "pygments_lexer": "ipython3",
   "version": "3.6.7"
  }
 },
 "nbformat": 4,
 "nbformat_minor": 2
}
