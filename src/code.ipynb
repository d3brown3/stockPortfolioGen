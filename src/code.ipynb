{
 "cells": [
  {
   "cell_type": "code",
   "execution_count": 1,
   "metadata": {},
   "outputs": [
    {
     "name": "stderr",
     "output_type": "stream",
     "text": [
      "Using TensorFlow backend.\n"
     ]
    }
   ],
   "source": [
    "from itertools import compress\n",
    "import pandas as pd\n",
    "import re\n",
    "import numpy as np\n",
    "import keras\n",
    "from keras import layers\n",
    "from keras.layers import recurrent, Dense, Input, LSTM, concatenate\n",
    "from keras.models import Model\n",
    "import matplotlib.pyplot as plt"
   ]
  },
  {
   "cell_type": "code",
   "execution_count": 2,
   "metadata": {},
   "outputs": [
    {
     "data": {
      "text/plain": [
       "10"
      ]
     },
     "execution_count": 2,
     "metadata": {},
     "output_type": "execute_result"
    }
   ],
   "source": [
    "pd.options.display.max_rows = 10\n",
    "\n",
    "pd.options.display.max_rows"
   ]
  },
  {
   "cell_type": "code",
   "execution_count": 3,
   "metadata": {},
   "outputs": [],
   "source": [
    "df = pd.read_csv('/home/david/stockPortfolioGen/data/stocks.csv.gz', compression='gzip')"
   ]
  },
  {
   "cell_type": "code",
   "execution_count": 4,
   "metadata": {},
   "outputs": [],
   "source": [
    "df = df.sort_values(by=['Date', 'Symbol'])"
   ]
  },
  {
   "cell_type": "code",
   "execution_count": 5,
   "metadata": {},
   "outputs": [],
   "source": [
    "# l1 = list(range(1,10+1))\n",
    "\n",
    "# l2 = [list(range(i, i+10)) for i in l1]\n",
    "# l2 = np.array(l2)\n",
    "\n",
    "# l2.shape\n",
    "# l2"
   ]
  },
  {
   "cell_type": "code",
   "execution_count": 6,
   "metadata": {},
   "outputs": [],
   "source": [
    "# stocks = list(df['Symbol'].unique())\n",
    "# stocks = stocks[0:2]\n",
    "\n",
    "# print(stocks)\n",
    "\n",
    "# train_arr = np.empty((0,37)) \n",
    "\n",
    "# for stock in stocks:\n",
    "#    df_stock = df[df['Symbol'] == stock]\n",
    "#    np_stock = np.array(df_stock['Adj Close'])\n",
    "#    array_stock = [np_stock[range(min(i, len(np_stock)), min(i + 37, len(np_stock)))] for i in range(len(df_stock['Adj Close']))]\n",
    "#    array_stock = np.array(array_stock)\n",
    "#    print(array_stock.shape)\n",
    "#    np.append(train_arr, array_stock, axis = 0)\n",
    "\n",
    "# train_arr"
   ]
  },
  {
   "cell_type": "code",
   "execution_count": 7,
   "metadata": {},
   "outputs": [],
   "source": [
    "# ind = pd.Series(df['Symbol']).str.contains('aapl').tolist()\n",
    "# df[ind]"
   ]
  },
  {
   "cell_type": "code",
   "execution_count": 8,
   "metadata": {},
   "outputs": [],
   "source": [
    "# I don't have the NYSE ? Missing CHS and AAPL.\n",
    "# dat = df[df['Symbol']=='CASI']\n",
    "ind = (df['Symbol']=='CASI')|(df['Symbol']=='MSFT')|(df['Symbol']=='MBOT')|(df['Symbol']=='TLRY')|(df['Symbol']=='GOOG')\n",
    "\n",
    "# dat = df[ind].pivot(index = 'Date', columns = 'Symbol', values = 'Adj Close').fillna(0)\n",
    "dat = df[ind]"
   ]
  },
  {
   "cell_type": "code",
   "execution_count": 9,
   "metadata": {},
   "outputs": [
    {
     "data": {
      "text/html": [
       "<div>\n",
       "<style scoped>\n",
       "    .dataframe tbody tr th:only-of-type {\n",
       "        vertical-align: middle;\n",
       "    }\n",
       "\n",
       "    .dataframe tbody tr th {\n",
       "        vertical-align: top;\n",
       "    }\n",
       "\n",
       "    .dataframe thead th {\n",
       "        text-align: right;\n",
       "    }\n",
       "</style>\n",
       "<table border=\"1\" class=\"dataframe\">\n",
       "  <thead>\n",
       "    <tr style=\"text-align: right;\">\n",
       "      <th></th>\n",
       "      <th>Symbol</th>\n",
       "      <th>Date</th>\n",
       "      <th>Open</th>\n",
       "      <th>High</th>\n",
       "      <th>Low</th>\n",
       "      <th>Close</th>\n",
       "      <th>Adj Close</th>\n",
       "      <th>Volume</th>\n",
       "    </tr>\n",
       "  </thead>\n",
       "  <tbody>\n",
       "    <tr>\n",
       "      <th>694044</th>\n",
       "      <td>CASI</td>\n",
       "      <td>2008-12-22</td>\n",
       "      <td>1.000000</td>\n",
       "      <td>1.000000</td>\n",
       "      <td>1.000000</td>\n",
       "      <td>1.000000</td>\n",
       "      <td>1.000000</td>\n",
       "      <td>1.000000</td>\n",
       "    </tr>\n",
       "    <tr>\n",
       "      <th>173173</th>\n",
       "      <td>GOOG</td>\n",
       "      <td>2008-12-22</td>\n",
       "      <td>1.000000</td>\n",
       "      <td>1.000000</td>\n",
       "      <td>1.000000</td>\n",
       "      <td>1.000000</td>\n",
       "      <td>1.000000</td>\n",
       "      <td>1.000000</td>\n",
       "    </tr>\n",
       "    <tr>\n",
       "      <th>2699343</th>\n",
       "      <td>MBOT</td>\n",
       "      <td>2008-12-22</td>\n",
       "      <td>1.000000</td>\n",
       "      <td>1.000000</td>\n",
       "      <td>1.000000</td>\n",
       "      <td>1.000000</td>\n",
       "      <td>1.000000</td>\n",
       "      <td>1.000000</td>\n",
       "    </tr>\n",
       "    <tr>\n",
       "      <th>2704371</th>\n",
       "      <td>MSFT</td>\n",
       "      <td>2008-12-22</td>\n",
       "      <td>1.000000</td>\n",
       "      <td>1.000000</td>\n",
       "      <td>1.000000</td>\n",
       "      <td>1.000000</td>\n",
       "      <td>1.000000</td>\n",
       "      <td>1.000000</td>\n",
       "    </tr>\n",
       "    <tr>\n",
       "      <th>694045</th>\n",
       "      <td>CASI</td>\n",
       "      <td>2008-12-23</td>\n",
       "      <td>0.842105</td>\n",
       "      <td>0.950000</td>\n",
       "      <td>1.000000</td>\n",
       "      <td>0.888889</td>\n",
       "      <td>0.888889</td>\n",
       "      <td>0.886010</td>\n",
       "    </tr>\n",
       "    <tr>\n",
       "      <th>...</th>\n",
       "      <td>...</td>\n",
       "      <td>...</td>\n",
       "      <td>...</td>\n",
       "      <td>...</td>\n",
       "      <td>...</td>\n",
       "      <td>...</td>\n",
       "      <td>...</td>\n",
       "      <td>...</td>\n",
       "    </tr>\n",
       "    <tr>\n",
       "      <th>696557</th>\n",
       "      <td>CASI</td>\n",
       "      <td>2018-12-17</td>\n",
       "      <td>2.033493</td>\n",
       "      <td>2.040909</td>\n",
       "      <td>2.409091</td>\n",
       "      <td>2.176768</td>\n",
       "      <td>2.176768</td>\n",
       "      <td>10.031425</td>\n",
       "    </tr>\n",
       "    <tr>\n",
       "      <th>175686</th>\n",
       "      <td>GOOG</td>\n",
       "      <td>2018-12-17</td>\n",
       "      <td>6.768590</td>\n",
       "      <td>6.849756</td>\n",
       "      <td>6.981078</td>\n",
       "      <td>6.887292</td>\n",
       "      <td>6.887292</td>\n",
       "      <td>0.302145</td>\n",
       "    </tr>\n",
       "    <tr>\n",
       "      <th>2701856</th>\n",
       "      <td>MBOT</td>\n",
       "      <td>2018-12-17</td>\n",
       "      <td>0.001428</td>\n",
       "      <td>0.001403</td>\n",
       "      <td>0.001389</td>\n",
       "      <td>0.001356</td>\n",
       "      <td>0.001356</td>\n",
       "      <td>46.357692</td>\n",
       "    </tr>\n",
       "    <tr>\n",
       "      <th>2706884</th>\n",
       "      <td>MSFT</td>\n",
       "      <td>2018-12-17</td>\n",
       "      <td>5.478690</td>\n",
       "      <td>5.484707</td>\n",
       "      <td>5.384331</td>\n",
       "      <td>5.364442</td>\n",
       "      <td>6.873662</td>\n",
       "      <td>0.972285</td>\n",
       "    </tr>\n",
       "    <tr>\n",
       "      <th>4025450</th>\n",
       "      <td>TLRY</td>\n",
       "      <td>2018-12-17</td>\n",
       "      <td>3.227766</td>\n",
       "      <td>3.135288</td>\n",
       "      <td>3.187065</td>\n",
       "      <td>2.942832</td>\n",
       "      <td>2.942832</td>\n",
       "      <td>0.190755</td>\n",
       "    </tr>\n",
       "  </tbody>\n",
       "</table>\n",
       "<p>10161 rows × 8 columns</p>\n",
       "</div>"
      ],
      "text/plain": [
       "        Symbol        Date      Open      High       Low     Close  Adj Close  \\\n",
       "694044    CASI  2008-12-22  1.000000  1.000000  1.000000  1.000000   1.000000   \n",
       "173173    GOOG  2008-12-22  1.000000  1.000000  1.000000  1.000000   1.000000   \n",
       "2699343   MBOT  2008-12-22  1.000000  1.000000  1.000000  1.000000   1.000000   \n",
       "2704371   MSFT  2008-12-22  1.000000  1.000000  1.000000  1.000000   1.000000   \n",
       "694045    CASI  2008-12-23  0.842105  0.950000  1.000000  0.888889   0.888889   \n",
       "...        ...         ...       ...       ...       ...       ...        ...   \n",
       "696557    CASI  2018-12-17  2.033493  2.040909  2.409091  2.176768   2.176768   \n",
       "175686    GOOG  2018-12-17  6.768590  6.849756  6.981078  6.887292   6.887292   \n",
       "2701856   MBOT  2018-12-17  0.001428  0.001403  0.001389  0.001356   0.001356   \n",
       "2706884   MSFT  2018-12-17  5.478690  5.484707  5.384331  5.364442   6.873662   \n",
       "4025450   TLRY  2018-12-17  3.227766  3.135288  3.187065  2.942832   2.942832   \n",
       "\n",
       "            Volume  \n",
       "694044    1.000000  \n",
       "173173    1.000000  \n",
       "2699343   1.000000  \n",
       "2704371   1.000000  \n",
       "694045    0.886010  \n",
       "...            ...  \n",
       "696557   10.031425  \n",
       "175686    0.302145  \n",
       "2701856  46.357692  \n",
       "2706884   0.972285  \n",
       "4025450   0.190755  \n",
       "\n",
       "[10161 rows x 8 columns]"
      ]
     },
     "execution_count": 9,
     "metadata": {},
     "output_type": "execute_result"
    }
   ],
   "source": [
    "dat2 = dat.drop(dat.columns[[0,2]], axis = 1)\n",
    "firsts = dat2.groupby('Symbol').transform('first')\n",
    "normalized = dat2.drop(dat2.columns[[0]], axis = 1)/firsts\n",
    "\n",
    "dat = dat.loc[:,\"Symbol\":\"Date\"].join(normalized)\n",
    "dat"
   ]
  },
  {
   "cell_type": "code",
   "execution_count": 10,
   "metadata": {},
   "outputs": [
    {
     "name": "stderr",
     "output_type": "stream",
     "text": [
      "/home/david/.local/lib/python3.6/site-packages/pandas/core/groupby/groupby.py:4477: RuntimeWarning: divide by zero encountered in log\n",
      "  lambda x: func(x, *args, **kwargs), axis=self.axis)\n",
      "/home/david/.local/lib/python3.6/site-packages/pandas/core/groupby/groupby.py:4475: RuntimeWarning: divide by zero encountered in log\n",
      "  fast_path = lambda group: func(group, *args, **kwargs)\n"
     ]
    },
    {
     "data": {
      "text/html": [
       "<div>\n",
       "<style scoped>\n",
       "    .dataframe tbody tr th:only-of-type {\n",
       "        vertical-align: middle;\n",
       "    }\n",
       "\n",
       "    .dataframe tbody tr th {\n",
       "        vertical-align: top;\n",
       "    }\n",
       "\n",
       "    .dataframe thead th {\n",
       "        text-align: right;\n",
       "    }\n",
       "</style>\n",
       "<table border=\"1\" class=\"dataframe\">\n",
       "  <thead>\n",
       "    <tr style=\"text-align: right;\">\n",
       "      <th></th>\n",
       "      <th>Symbol</th>\n",
       "      <th>Date</th>\n",
       "      <th>Open</th>\n",
       "      <th>High</th>\n",
       "      <th>Low</th>\n",
       "      <th>Close</th>\n",
       "      <th>Adj Close</th>\n",
       "      <th>Volume</th>\n",
       "    </tr>\n",
       "  </thead>\n",
       "  <tbody>\n",
       "    <tr>\n",
       "      <th>694044</th>\n",
       "      <td>CASI</td>\n",
       "      <td>2008-12-22</td>\n",
       "      <td>0.000000</td>\n",
       "      <td>0.000000</td>\n",
       "      <td>0.000000</td>\n",
       "      <td>0.000000</td>\n",
       "      <td>0.000000</td>\n",
       "      <td>0.000000</td>\n",
       "    </tr>\n",
       "    <tr>\n",
       "      <th>173173</th>\n",
       "      <td>GOOG</td>\n",
       "      <td>2008-12-22</td>\n",
       "      <td>0.000000</td>\n",
       "      <td>0.000000</td>\n",
       "      <td>0.000000</td>\n",
       "      <td>0.000000</td>\n",
       "      <td>0.000000</td>\n",
       "      <td>0.000000</td>\n",
       "    </tr>\n",
       "    <tr>\n",
       "      <th>2699343</th>\n",
       "      <td>MBOT</td>\n",
       "      <td>2008-12-22</td>\n",
       "      <td>0.000000</td>\n",
       "      <td>0.000000</td>\n",
       "      <td>0.000000</td>\n",
       "      <td>0.000000</td>\n",
       "      <td>0.000000</td>\n",
       "      <td>0.000000</td>\n",
       "    </tr>\n",
       "    <tr>\n",
       "      <th>2704371</th>\n",
       "      <td>MSFT</td>\n",
       "      <td>2008-12-22</td>\n",
       "      <td>0.000000</td>\n",
       "      <td>0.000000</td>\n",
       "      <td>0.000000</td>\n",
       "      <td>0.000000</td>\n",
       "      <td>0.000000</td>\n",
       "      <td>0.000000</td>\n",
       "    </tr>\n",
       "    <tr>\n",
       "      <th>694045</th>\n",
       "      <td>CASI</td>\n",
       "      <td>2008-12-23</td>\n",
       "      <td>-0.171850</td>\n",
       "      <td>-0.051293</td>\n",
       "      <td>0.000000</td>\n",
       "      <td>-0.117783</td>\n",
       "      <td>-0.117783</td>\n",
       "      <td>-0.121027</td>\n",
       "    </tr>\n",
       "    <tr>\n",
       "      <th>...</th>\n",
       "      <td>...</td>\n",
       "      <td>...</td>\n",
       "      <td>...</td>\n",
       "      <td>...</td>\n",
       "      <td>...</td>\n",
       "      <td>...</td>\n",
       "      <td>...</td>\n",
       "      <td>...</td>\n",
       "    </tr>\n",
       "    <tr>\n",
       "      <th>696557</th>\n",
       "      <td>CASI</td>\n",
       "      <td>2018-12-17</td>\n",
       "      <td>0.709755</td>\n",
       "      <td>0.713395</td>\n",
       "      <td>0.879249</td>\n",
       "      <td>0.777841</td>\n",
       "      <td>0.777841</td>\n",
       "      <td>2.305723</td>\n",
       "    </tr>\n",
       "    <tr>\n",
       "      <th>175686</th>\n",
       "      <td>GOOG</td>\n",
       "      <td>2018-12-17</td>\n",
       "      <td>1.912293</td>\n",
       "      <td>1.924213</td>\n",
       "      <td>1.943203</td>\n",
       "      <td>1.929678</td>\n",
       "      <td>1.929678</td>\n",
       "      <td>-1.196850</td>\n",
       "    </tr>\n",
       "    <tr>\n",
       "      <th>2701856</th>\n",
       "      <td>MBOT</td>\n",
       "      <td>2018-12-17</td>\n",
       "      <td>-6.551224</td>\n",
       "      <td>-6.569201</td>\n",
       "      <td>-6.579251</td>\n",
       "      <td>-6.603544</td>\n",
       "      <td>-6.603544</td>\n",
       "      <td>3.836387</td>\n",
       "    </tr>\n",
       "    <tr>\n",
       "      <th>2706884</th>\n",
       "      <td>MSFT</td>\n",
       "      <td>2018-12-17</td>\n",
       "      <td>1.700866</td>\n",
       "      <td>1.701964</td>\n",
       "      <td>1.683493</td>\n",
       "      <td>1.679792</td>\n",
       "      <td>1.927697</td>\n",
       "      <td>-0.028107</td>\n",
       "    </tr>\n",
       "    <tr>\n",
       "      <th>4025450</th>\n",
       "      <td>TLRY</td>\n",
       "      <td>2018-12-17</td>\n",
       "      <td>1.171790</td>\n",
       "      <td>1.142721</td>\n",
       "      <td>1.159100</td>\n",
       "      <td>1.079372</td>\n",
       "      <td>1.079372</td>\n",
       "      <td>-1.656765</td>\n",
       "    </tr>\n",
       "  </tbody>\n",
       "</table>\n",
       "<p>10161 rows × 8 columns</p>\n",
       "</div>"
      ],
      "text/plain": [
       "        Symbol        Date      Open      High       Low     Close  Adj Close  \\\n",
       "694044    CASI  2008-12-22  0.000000  0.000000  0.000000  0.000000   0.000000   \n",
       "173173    GOOG  2008-12-22  0.000000  0.000000  0.000000  0.000000   0.000000   \n",
       "2699343   MBOT  2008-12-22  0.000000  0.000000  0.000000  0.000000   0.000000   \n",
       "2704371   MSFT  2008-12-22  0.000000  0.000000  0.000000  0.000000   0.000000   \n",
       "694045    CASI  2008-12-23 -0.171850 -0.051293  0.000000 -0.117783  -0.117783   \n",
       "...        ...         ...       ...       ...       ...       ...        ...   \n",
       "696557    CASI  2018-12-17  0.709755  0.713395  0.879249  0.777841   0.777841   \n",
       "175686    GOOG  2018-12-17  1.912293  1.924213  1.943203  1.929678   1.929678   \n",
       "2701856   MBOT  2018-12-17 -6.551224 -6.569201 -6.579251 -6.603544  -6.603544   \n",
       "2706884   MSFT  2018-12-17  1.700866  1.701964  1.683493  1.679792   1.927697   \n",
       "4025450   TLRY  2018-12-17  1.171790  1.142721  1.159100  1.079372   1.079372   \n",
       "\n",
       "           Volume  \n",
       "694044   0.000000  \n",
       "173173   0.000000  \n",
       "2699343  0.000000  \n",
       "2704371  0.000000  \n",
       "694045  -0.121027  \n",
       "...           ...  \n",
       "696557   2.305723  \n",
       "175686  -1.196850  \n",
       "2701856  3.836387  \n",
       "2706884 -0.028107  \n",
       "4025450 -1.656765  \n",
       "\n",
       "[10161 rows x 8 columns]"
      ]
     },
     "execution_count": 10,
     "metadata": {},
     "output_type": "execute_result"
    }
   ],
   "source": [
    "log_trans = dat.drop(dat.columns[[1]], axis = 1).groupby('Symbol').transform(np.log)\n",
    "dat = dat.loc[:,\"Symbol\":\"Date\"].join(log_trans)\n",
    "\n",
    "dat"
   ]
  },
  {
   "cell_type": "code",
   "execution_count": 11,
   "metadata": {},
   "outputs": [
    {
     "data": {
      "text/plain": [
       "<matplotlib.axes._subplots.AxesSubplot at 0x7f3969c86400>"
      ]
     },
     "execution_count": 11,
     "metadata": {},
     "output_type": "execute_result"
    },
    {
     "data": {
      "image/png": "[encoded data removed]",
      "text/plain": [
       "<Figure size 432x288 with 1 Axes>"
      ]
     },
     "metadata": {
      "needs_background": "light"
     },
     "output_type": "display_data"
    }
   ],
   "source": [
    "dat.pivot_table(index='Date',columns='Symbol',values='Adj Close',aggfunc='sum').plot()"
   ]
  },
  {
   "cell_type": "code",
   "execution_count": 12,
   "metadata": {},
   "outputs": [
    {
     "data": {
      "text/html": [
       "<div>\n",
       "<style scoped>\n",
       "    .dataframe tbody tr th:only-of-type {\n",
       "        vertical-align: middle;\n",
       "    }\n",
       "\n",
       "    .dataframe tbody tr th {\n",
       "        vertical-align: top;\n",
       "    }\n",
       "\n",
       "    .dataframe thead th {\n",
       "        text-align: right;\n",
       "    }\n",
       "</style>\n",
       "<table border=\"1\" class=\"dataframe\">\n",
       "  <thead>\n",
       "    <tr style=\"text-align: right;\">\n",
       "      <th>Symbol</th>\n",
       "      <th>CASI</th>\n",
       "      <th>GOOG</th>\n",
       "      <th>MBOT</th>\n",
       "      <th>MSFT</th>\n",
       "      <th>TLRY</th>\n",
       "    </tr>\n",
       "    <tr>\n",
       "      <th>Date</th>\n",
       "      <th></th>\n",
       "      <th></th>\n",
       "      <th></th>\n",
       "      <th></th>\n",
       "      <th></th>\n",
       "    </tr>\n",
       "  </thead>\n",
       "  <tbody>\n",
       "    <tr>\n",
       "      <th>2008-12-22</th>\n",
       "      <td>0.000000</td>\n",
       "      <td>0.000000</td>\n",
       "      <td>0.000000</td>\n",
       "      <td>0.000000</td>\n",
       "      <td>0.000000</td>\n",
       "    </tr>\n",
       "    <tr>\n",
       "      <th>2008-12-23</th>\n",
       "      <td>-0.117783</td>\n",
       "      <td>0.003058</td>\n",
       "      <td>-0.024293</td>\n",
       "      <td>0.005200</td>\n",
       "      <td>0.000000</td>\n",
       "    </tr>\n",
       "    <tr>\n",
       "      <th>2008-12-24</th>\n",
       "      <td>-0.057158</td>\n",
       "      <td>0.019465</td>\n",
       "      <td>0.023717</td>\n",
       "      <td>-0.000521</td>\n",
       "      <td>0.000000</td>\n",
       "    </tr>\n",
       "    <tr>\n",
       "      <th>2008-12-26</th>\n",
       "      <td>0.105361</td>\n",
       "      <td>0.010879</td>\n",
       "      <td>0.106160</td>\n",
       "      <td>-0.002610</td>\n",
       "      <td>0.000000</td>\n",
       "    </tr>\n",
       "    <tr>\n",
       "      <th>2008-12-29</th>\n",
       "      <td>-0.057158</td>\n",
       "      <td>0.001043</td>\n",
       "      <td>0.069526</td>\n",
       "      <td>-0.011536</td>\n",
       "      <td>0.000000</td>\n",
       "    </tr>\n",
       "    <tr>\n",
       "      <th>...</th>\n",
       "      <td>...</td>\n",
       "      <td>...</td>\n",
       "      <td>...</td>\n",
       "      <td>...</td>\n",
       "      <td>...</td>\n",
       "    </tr>\n",
       "    <tr>\n",
       "      <th>2018-12-11</th>\n",
       "      <td>0.672738</td>\n",
       "      <td>1.963738</td>\n",
       "      <td>-6.519725</td>\n",
       "      <td>1.981616</td>\n",
       "      <td>1.435425</td>\n",
       "    </tr>\n",
       "    <tr>\n",
       "      <th>2018-12-12</th>\n",
       "      <td>0.777841</td>\n",
       "      <td>1.975018</td>\n",
       "      <td>-6.509725</td>\n",
       "      <td>1.986118</td>\n",
       "      <td>1.327900</td>\n",
       "    </tr>\n",
       "    <tr>\n",
       "      <th>2018-12-13</th>\n",
       "      <td>0.768517</td>\n",
       "      <td>1.973343</td>\n",
       "      <td>-6.529826</td>\n",
       "      <td>1.989504</td>\n",
       "      <td>1.215783</td>\n",
       "    </tr>\n",
       "    <tr>\n",
       "      <th>2018-12-14</th>\n",
       "      <td>0.763822</td>\n",
       "      <td>1.954521</td>\n",
       "      <td>-6.524763</td>\n",
       "      <td>1.957759</td>\n",
       "      <td>1.210606</td>\n",
       "    </tr>\n",
       "    <tr>\n",
       "      <th>2018-12-17</th>\n",
       "      <td>0.777841</td>\n",
       "      <td>1.929678</td>\n",
       "      <td>-6.603544</td>\n",
       "      <td>1.927697</td>\n",
       "      <td>1.079372</td>\n",
       "    </tr>\n",
       "  </tbody>\n",
       "</table>\n",
       "<p>2514 rows × 5 columns</p>\n",
       "</div>"
      ],
      "text/plain": [
       "Symbol          CASI      GOOG      MBOT      MSFT      TLRY\n",
       "Date                                                        \n",
       "2008-12-22  0.000000  0.000000  0.000000  0.000000  0.000000\n",
       "2008-12-23 -0.117783  0.003058 -0.024293  0.005200  0.000000\n",
       "2008-12-24 -0.057158  0.019465  0.023717 -0.000521  0.000000\n",
       "2008-12-26  0.105361  0.010879  0.106160 -0.002610  0.000000\n",
       "2008-12-29 -0.057158  0.001043  0.069526 -0.011536  0.000000\n",
       "...              ...       ...       ...       ...       ...\n",
       "2018-12-11  0.672738  1.963738 -6.519725  1.981616  1.435425\n",
       "2018-12-12  0.777841  1.975018 -6.509725  1.986118  1.327900\n",
       "2018-12-13  0.768517  1.973343 -6.529826  1.989504  1.215783\n",
       "2018-12-14  0.763822  1.954521 -6.524763  1.957759  1.210606\n",
       "2018-12-17  0.777841  1.929678 -6.603544  1.927697  1.079372\n",
       "\n",
       "[2514 rows x 5 columns]"
      ]
     },
     "execution_count": 12,
     "metadata": {},
     "output_type": "execute_result"
    }
   ],
   "source": [
    "dat = dat.pivot(index = 'Date', columns = 'Symbol', values = 'Adj Close').fillna(0)\n",
    "dat"
   ]
  },
  {
   "cell_type": "code",
   "execution_count": 13,
   "metadata": {},
   "outputs": [],
   "source": [
    "dat = dat.stack().reset_index()\n",
    "dat.columns = ['Date', 'Symbol', 'Adj Close']"
   ]
  },
  {
   "cell_type": "code",
   "execution_count": 14,
   "metadata": {},
   "outputs": [
    {
     "data": {
      "text/html": [
       "<div>\n",
       "<style scoped>\n",
       "    .dataframe tbody tr th:only-of-type {\n",
       "        vertical-align: middle;\n",
       "    }\n",
       "\n",
       "    .dataframe tbody tr th {\n",
       "        vertical-align: top;\n",
       "    }\n",
       "\n",
       "    .dataframe thead th {\n",
       "        text-align: right;\n",
       "    }\n",
       "</style>\n",
       "<table border=\"1\" class=\"dataframe\">\n",
       "  <thead>\n",
       "    <tr style=\"text-align: right;\">\n",
       "      <th></th>\n",
       "      <th>Adj Close</th>\n",
       "      <th>CASI</th>\n",
       "      <th>GOOG</th>\n",
       "      <th>MBOT</th>\n",
       "      <th>MSFT</th>\n",
       "      <th>TLRY</th>\n",
       "    </tr>\n",
       "  </thead>\n",
       "  <tbody>\n",
       "    <tr>\n",
       "      <th>0</th>\n",
       "      <td>0.000000</td>\n",
       "      <td>1</td>\n",
       "      <td>0</td>\n",
       "      <td>0</td>\n",
       "      <td>0</td>\n",
       "      <td>0</td>\n",
       "    </tr>\n",
       "    <tr>\n",
       "      <th>1</th>\n",
       "      <td>0.000000</td>\n",
       "      <td>0</td>\n",
       "      <td>1</td>\n",
       "      <td>0</td>\n",
       "      <td>0</td>\n",
       "      <td>0</td>\n",
       "    </tr>\n",
       "    <tr>\n",
       "      <th>2</th>\n",
       "      <td>0.000000</td>\n",
       "      <td>0</td>\n",
       "      <td>0</td>\n",
       "      <td>1</td>\n",
       "      <td>0</td>\n",
       "      <td>0</td>\n",
       "    </tr>\n",
       "    <tr>\n",
       "      <th>3</th>\n",
       "      <td>0.000000</td>\n",
       "      <td>0</td>\n",
       "      <td>0</td>\n",
       "      <td>0</td>\n",
       "      <td>1</td>\n",
       "      <td>0</td>\n",
       "    </tr>\n",
       "    <tr>\n",
       "      <th>4</th>\n",
       "      <td>0.000000</td>\n",
       "      <td>0</td>\n",
       "      <td>0</td>\n",
       "      <td>0</td>\n",
       "      <td>0</td>\n",
       "      <td>1</td>\n",
       "    </tr>\n",
       "    <tr>\n",
       "      <th>...</th>\n",
       "      <td>...</td>\n",
       "      <td>...</td>\n",
       "      <td>...</td>\n",
       "      <td>...</td>\n",
       "      <td>...</td>\n",
       "      <td>...</td>\n",
       "    </tr>\n",
       "    <tr>\n",
       "      <th>12565</th>\n",
       "      <td>0.777841</td>\n",
       "      <td>1</td>\n",
       "      <td>0</td>\n",
       "      <td>0</td>\n",
       "      <td>0</td>\n",
       "      <td>0</td>\n",
       "    </tr>\n",
       "    <tr>\n",
       "      <th>12566</th>\n",
       "      <td>1.929678</td>\n",
       "      <td>0</td>\n",
       "      <td>1</td>\n",
       "      <td>0</td>\n",
       "      <td>0</td>\n",
       "      <td>0</td>\n",
       "    </tr>\n",
       "    <tr>\n",
       "      <th>12567</th>\n",
       "      <td>-6.603544</td>\n",
       "      <td>0</td>\n",
       "      <td>0</td>\n",
       "      <td>1</td>\n",
       "      <td>0</td>\n",
       "      <td>0</td>\n",
       "    </tr>\n",
       "    <tr>\n",
       "      <th>12568</th>\n",
       "      <td>1.927697</td>\n",
       "      <td>0</td>\n",
       "      <td>0</td>\n",
       "      <td>0</td>\n",
       "      <td>1</td>\n",
       "      <td>0</td>\n",
       "    </tr>\n",
       "    <tr>\n",
       "      <th>12569</th>\n",
       "      <td>1.079372</td>\n",
       "      <td>0</td>\n",
       "      <td>0</td>\n",
       "      <td>0</td>\n",
       "      <td>0</td>\n",
       "      <td>1</td>\n",
       "    </tr>\n",
       "  </tbody>\n",
       "</table>\n",
       "<p>12570 rows × 6 columns</p>\n",
       "</div>"
      ],
      "text/plain": [
       "       Adj Close  CASI  GOOG  MBOT  MSFT  TLRY\n",
       "0       0.000000     1     0     0     0     0\n",
       "1       0.000000     0     1     0     0     0\n",
       "2       0.000000     0     0     1     0     0\n",
       "3       0.000000     0     0     0     1     0\n",
       "4       0.000000     0     0     0     0     1\n",
       "...          ...   ...   ...   ...   ...   ...\n",
       "12565   0.777841     1     0     0     0     0\n",
       "12566   1.929678     0     1     0     0     0\n",
       "12567  -6.603544     0     0     1     0     0\n",
       "12568   1.927697     0     0     0     1     0\n",
       "12569   1.079372     0     0     0     0     1\n",
       "\n",
       "[12570 rows x 6 columns]"
      ]
     },
     "execution_count": 14,
     "metadata": {},
     "output_type": "execute_result"
    }
   ],
   "source": [
    "new_cols = pd.get_dummies(dat['Symbol'])\n",
    "\n",
    "dat = pd.DataFrame(dat['Adj Close']).join(new_cols)\n",
    "# index contains duplicates..(index = Date)\n",
    "dat"
   ]
  },
  {
   "cell_type": "code",
   "execution_count": 15,
   "metadata": {},
   "outputs": [],
   "source": [
    "# print(\"stuck here\") not stuck anymore"
   ]
  },
  {
   "cell_type": "code",
   "execution_count": 16,
   "metadata": {},
   "outputs": [],
   "source": [
    "# dat.head()\n",
    "# normalizer = dat['Adj Close'].tolist()[0:1]\n",
    "# normalizer\n",
    "#normalizer = dat.ix[0]\n",
    "#print(normalizer)\n",
    "# dat = dat.loc[:,\"CASI\":\"TLRY\"].div(dat.ix[0]).fillna(0)"
   ]
  },
  {
   "cell_type": "code",
   "execution_count": 17,
   "metadata": {},
   "outputs": [],
   "source": [
    "# need to do refer to this: https://keras.io/getting-started/functional-api-guide/"
   ]
  },
  {
   "cell_type": "code",
   "execution_count": 18,
   "metadata": {},
   "outputs": [],
   "source": [
    "## indexes to delete since symbols don't match\n",
    "# dfx = dat[0:10055].loc[:, \"CASI\":\"TLRY\"]\n",
    "# dfy = dat[1:10056].loc[:, \"CASI\":\"TLRY\"]\n",
    "# rm_i = (np.sum((np.array(dfx) == np.array(dfy)), axis = 1) > 3).tolist()\n",
    "# list(compress(rm_i, [not i for i in rm_i]))"
   ]
  },
  {
   "cell_type": "code",
   "execution_count": 19,
   "metadata": {},
   "outputs": [
    {
     "data": {
      "text/html": [
       "<div>\n",
       "<style scoped>\n",
       "    .dataframe tbody tr th:only-of-type {\n",
       "        vertical-align: middle;\n",
       "    }\n",
       "\n",
       "    .dataframe tbody tr th {\n",
       "        vertical-align: top;\n",
       "    }\n",
       "\n",
       "    .dataframe thead th {\n",
       "        text-align: right;\n",
       "    }\n",
       "</style>\n",
       "<table border=\"1\" class=\"dataframe\">\n",
       "  <thead>\n",
       "    <tr style=\"text-align: right;\">\n",
       "      <th></th>\n",
       "      <th>Adj Close</th>\n",
       "      <th>CASI</th>\n",
       "      <th>GOOG</th>\n",
       "      <th>MBOT</th>\n",
       "      <th>MSFT</th>\n",
       "      <th>TLRY</th>\n",
       "    </tr>\n",
       "  </thead>\n",
       "  <tbody>\n",
       "    <tr>\n",
       "      <th>0</th>\n",
       "      <td>0.000000</td>\n",
       "      <td>1</td>\n",
       "      <td>0</td>\n",
       "      <td>0</td>\n",
       "      <td>0</td>\n",
       "      <td>0</td>\n",
       "    </tr>\n",
       "    <tr>\n",
       "      <th>1</th>\n",
       "      <td>0.000000</td>\n",
       "      <td>0</td>\n",
       "      <td>1</td>\n",
       "      <td>0</td>\n",
       "      <td>0</td>\n",
       "      <td>0</td>\n",
       "    </tr>\n",
       "    <tr>\n",
       "      <th>2</th>\n",
       "      <td>0.000000</td>\n",
       "      <td>0</td>\n",
       "      <td>0</td>\n",
       "      <td>1</td>\n",
       "      <td>0</td>\n",
       "      <td>0</td>\n",
       "    </tr>\n",
       "    <tr>\n",
       "      <th>3</th>\n",
       "      <td>0.000000</td>\n",
       "      <td>0</td>\n",
       "      <td>0</td>\n",
       "      <td>0</td>\n",
       "      <td>1</td>\n",
       "      <td>0</td>\n",
       "    </tr>\n",
       "    <tr>\n",
       "      <th>4</th>\n",
       "      <td>0.000000</td>\n",
       "      <td>0</td>\n",
       "      <td>0</td>\n",
       "      <td>0</td>\n",
       "      <td>0</td>\n",
       "      <td>1</td>\n",
       "    </tr>\n",
       "    <tr>\n",
       "      <th>...</th>\n",
       "      <td>...</td>\n",
       "      <td>...</td>\n",
       "      <td>...</td>\n",
       "      <td>...</td>\n",
       "      <td>...</td>\n",
       "      <td>...</td>\n",
       "    </tr>\n",
       "    <tr>\n",
       "      <th>12565</th>\n",
       "      <td>0.777841</td>\n",
       "      <td>1</td>\n",
       "      <td>0</td>\n",
       "      <td>0</td>\n",
       "      <td>0</td>\n",
       "      <td>0</td>\n",
       "    </tr>\n",
       "    <tr>\n",
       "      <th>12566</th>\n",
       "      <td>1.929678</td>\n",
       "      <td>0</td>\n",
       "      <td>1</td>\n",
       "      <td>0</td>\n",
       "      <td>0</td>\n",
       "      <td>0</td>\n",
       "    </tr>\n",
       "    <tr>\n",
       "      <th>12567</th>\n",
       "      <td>-6.603544</td>\n",
       "      <td>0</td>\n",
       "      <td>0</td>\n",
       "      <td>1</td>\n",
       "      <td>0</td>\n",
       "      <td>0</td>\n",
       "    </tr>\n",
       "    <tr>\n",
       "      <th>12568</th>\n",
       "      <td>1.927697</td>\n",
       "      <td>0</td>\n",
       "      <td>0</td>\n",
       "      <td>0</td>\n",
       "      <td>1</td>\n",
       "      <td>0</td>\n",
       "    </tr>\n",
       "    <tr>\n",
       "      <th>12569</th>\n",
       "      <td>1.079372</td>\n",
       "      <td>0</td>\n",
       "      <td>0</td>\n",
       "      <td>0</td>\n",
       "      <td>0</td>\n",
       "      <td>1</td>\n",
       "    </tr>\n",
       "  </tbody>\n",
       "</table>\n",
       "<p>12570 rows × 6 columns</p>\n",
       "</div>"
      ],
      "text/plain": [
       "       Adj Close  CASI  GOOG  MBOT  MSFT  TLRY\n",
       "0       0.000000     1     0     0     0     0\n",
       "1       0.000000     0     1     0     0     0\n",
       "2       0.000000     0     0     1     0     0\n",
       "3       0.000000     0     0     0     1     0\n",
       "4       0.000000     0     0     0     0     1\n",
       "...          ...   ...   ...   ...   ...   ...\n",
       "12565   0.777841     1     0     0     0     0\n",
       "12566   1.929678     0     1     0     0     0\n",
       "12567  -6.603544     0     0     1     0     0\n",
       "12568   1.927697     0     0     0     1     0\n",
       "12569   1.079372     0     0     0     0     1\n",
       "\n",
       "[12570 rows x 6 columns]"
      ]
     },
     "execution_count": 19,
     "metadata": {},
     "output_type": "execute_result"
    }
   ],
   "source": [
    "dat"
   ]
  },
  {
   "cell_type": "code",
   "execution_count": 20,
   "metadata": {},
   "outputs": [
    {
     "name": "stdout",
     "output_type": "stream",
     "text": [
      "0:12564\n",
      "5:12569\n",
      "[[ 0.          1.          0.          0.          0.          0.        ]\n",
      " [ 0.          0.          1.          0.          0.          0.        ]\n",
      " [ 0.          0.          0.          1.          0.          0.        ]\n",
      " ...\n",
      " [ 1.95452091  0.          1.          0.          0.          0.        ]\n",
      " [-6.52476303  0.          0.          1.          0.          0.        ]\n",
      " [ 1.95775864  0.          0.          0.          1.          0.        ]]\n",
      "[[-1.17783036e-01  1.00000000e+00  0.00000000e+00  0.00000000e+00\n",
      "   0.00000000e+00  0.00000000e+00]\n",
      " [ 3.05824033e-03  0.00000000e+00  1.00000000e+00  0.00000000e+00\n",
      "   0.00000000e+00  0.00000000e+00]\n",
      " [-2.42927108e-02  0.00000000e+00  0.00000000e+00  1.00000000e+00\n",
      "   0.00000000e+00  0.00000000e+00]\n",
      " ...\n",
      " [ 1.92967792e+00  0.00000000e+00  1.00000000e+00  0.00000000e+00\n",
      "   0.00000000e+00  0.00000000e+00]\n",
      " [-6.60354390e+00  0.00000000e+00  0.00000000e+00  1.00000000e+00\n",
      "   0.00000000e+00  0.00000000e+00]\n",
      " [ 1.92769702e+00  0.00000000e+00  0.00000000e+00  0.00000000e+00\n",
      "   1.00000000e+00  0.00000000e+00]]\n"
     ]
    }
   ],
   "source": [
    "print(str(0)+\":\"+str((dat.shape[0]-dat.shape[1])))\n",
    "print(str(dat.shape[1]-1)+\":\"+str(dat.shape[0]-1))\n",
    "x = np.array(dat[0:(dat.shape[0]-dat.shape[1])])\n",
    "print(x)\n",
    "y = np.array(dat[(dat.shape[1]-1):(dat.shape[0]-1)])\n",
    "print(y)"
   ]
  },
  {
   "cell_type": "code",
   "execution_count": 21,
   "metadata": {},
   "outputs": [
    {
     "name": "stdout",
     "output_type": "stream",
     "text": [
      "(12564, 6)\n",
      "(12564, 6)\n"
     ]
    }
   ],
   "source": [
    "print(x.shape)\n",
    "print(y.shape)"
   ]
  },
  {
   "cell_type": "code",
   "execution_count": 22,
   "metadata": {},
   "outputs": [
    {
     "name": "stdout",
     "output_type": "stream",
     "text": [
      "(12564, 6)\n",
      "(12564, 6)\n"
     ]
    }
   ],
   "source": [
    "# rm_i = pd.Series(rm_i)\n",
    "\n",
    "# x = dat[0:10055]\n",
    "# y = dat[1:10056]\n",
    "\n",
    "# x = np.array(x[rm_i.values])\n",
    "# y = np.array(y[rm_i.values])\n",
    "\n",
    "print(x.shape)\n",
    "print(y.shape)"
   ]
  },
  {
   "cell_type": "code",
   "execution_count": 23,
   "metadata": {},
   "outputs": [
    {
     "data": {
      "text/plain": [
       "(12564, 1, 6)"
      ]
     },
     "execution_count": 23,
     "metadata": {},
     "output_type": "execute_result"
    }
   ],
   "source": [
    "x = x.reshape(x.shape[0], 1, 6)\n",
    "x.shape"
   ]
  },
  {
   "cell_type": "code",
   "execution_count": 24,
   "metadata": {},
   "outputs": [],
   "source": [
    "x_values = x[:,:,0:1]\n",
    "y = y[:,0:1]\n",
    "x_symb = x[:,0,1:6]"
   ]
  },
  {
   "cell_type": "code",
   "execution_count": 25,
   "metadata": {},
   "outputs": [
    {
     "name": "stdout",
     "output_type": "stream",
     "text": [
      "(12564, 1, 1)\n",
      "(12564, 5)\n",
      "(12564, 1)\n",
      "(5,)\n"
     ]
    }
   ],
   "source": [
    "print(x_values.shape)\n",
    "print(x_symb.shape)\n",
    "print(y.shape)\n",
    "print(x_symb.shape[1:2])"
   ]
  },
  {
   "cell_type": "code",
   "execution_count": 26,
   "metadata": {},
   "outputs": [
    {
     "data": {
      "text/plain": [
       "(array([ 299.,   95.,  210.,   90.,  252.,  865.,  117., 4745., 3727.,\n",
       "        2164.]),\n",
       " array([-7.80569687, -6.79936299, -5.79302911, -4.78669522, -3.78036134,\n",
       "        -2.77402746, -1.76769358, -0.76135969,  0.24497419,  1.25130807,\n",
       "         2.25764195]),\n",
       " <a list of 10 Patch objects>)"
      ]
     },
     "execution_count": 26,
     "metadata": {},
     "output_type": "execute_result"
    },
    {
     "data": {
      "image/png": "[encoded data removed]",
      "text/plain": [
       "<Figure size 432x288 with 1 Axes>"
      ]
     },
     "metadata": {
      "needs_background": "light"
     },
     "output_type": "display_data"
    }
   ],
   "source": [
    "plt.hist(x_values[:,0,0])"
   ]
  },
  {
   "cell_type": "code",
   "execution_count": 27,
   "metadata": {},
   "outputs": [
    {
     "data": {
      "text/plain": [
       "(array([ 299.,   96.,  210.,   90.,  252.,  865.,  117., 4740., 3729.,\n",
       "        2166.]),\n",
       " array([-7.80569687, -6.79936299, -5.79302911, -4.78669522, -3.78036134,\n",
       "        -2.77402746, -1.76769358, -0.76135969,  0.24497419,  1.25130807,\n",
       "         2.25764195]),\n",
       " <a list of 10 Patch objects>)"
      ]
     },
     "execution_count": 27,
     "metadata": {},
     "output_type": "execute_result"
    },
    {
     "data": {
      "image/png": "[encoded data removed]",
      "text/plain": [
       "<Figure size 432x288 with 1 Axes>"
      ]
     },
     "metadata": {
      "needs_background": "light"
     },
     "output_type": "display_data"
    }
   ],
   "source": [
    "plt.hist(y[:,0])"
   ]
  },
  {
   "cell_type": "code",
   "execution_count": 28,
   "metadata": {},
   "outputs": [
    {
     "name": "stdout",
     "output_type": "stream",
     "text": [
      "Tensor(\"main_input:0\", shape=(?, 1, 1), dtype=float32)\n",
      "Tensor(\"aux_input:0\", shape=(?, 5), dtype=float32)\n",
      "Tensor(\"lstm_1/TensorArrayReadV3:0\", shape=(?, 4), dtype=float32)\n",
      "Tensor(\"lstm_output/BiasAdd:0\", shape=(?, 1), dtype=float32)\n",
      "Tensor(\"concatenate_1/concat:0\", shape=(?, 9), dtype=float32)\n",
      "Tensor(\"dense_1/Relu:0\", shape=(?, 5), dtype=float32)\n",
      "Tensor(\"main_output/BiasAdd:0\", shape=(?, 1), dtype=float32)\n"
     ]
    }
   ],
   "source": [
    "main_input = Input(shape = x_values.shape[1:3], name = 'main_input')\n",
    "aux_input = Input(shape = (x_symb.shape[1:2]), name = 'aux_input')\n",
    "print(main_input)\n",
    "print(aux_input)\n",
    "\n",
    "lstm = LSTM(units = 4)(main_input)\n",
    "print(lstm)\n",
    "lstm_out = Dense(units = 1, activation='linear', name='lstm_output')(lstm)\n",
    "print(lstm_out)\n",
    "concat = concatenate([lstm, aux_input])\n",
    "print(concat)\n",
    "dense = Dense(5, activation='relu')(concat)\n",
    "print(dense)\n",
    "main_output = Dense(1, activation='linear', name='main_output')(dense)\n",
    "print(main_output)"
   ]
  },
  {
   "cell_type": "code",
   "execution_count": 29,
   "metadata": {},
   "outputs": [
    {
     "name": "stdout",
     "output_type": "stream",
     "text": [
      "<keras.engine.training.Model object at 0x7f3967acfcf8>\n"
     ]
    }
   ],
   "source": [
    "model = Model(inputs=[main_input, aux_input], outputs=[main_output, lstm_out])\n",
    "print(model)"
   ]
  },
  {
   "cell_type": "code",
   "execution_count": 30,
   "metadata": {},
   "outputs": [
    {
     "name": "stdout",
     "output_type": "stream",
     "text": [
      "<keras.engine.training.Model object at 0x7f3967acfcf8>\n"
     ]
    }
   ],
   "source": [
    "model.compile(loss = 'mean_squared_error', optimizer = 'adam')\n",
    "print(model)"
   ]
  },
  {
   "cell_type": "code",
   "execution_count": 31,
   "metadata": {},
   "outputs": [
    {
     "name": "stdout",
     "output_type": "stream",
     "text": [
      "Epoch 1/1\n",
      "12564/12564 [==============================] - 5s 418us/step - loss: 1.4793 - main_output_loss: 0.9430 - lstm_output_loss: 0.5362\n",
      "Epoch 1/1\n",
      "12564/12564 [==============================] - 5s 371us/step - loss: 0.0309 - main_output_loss: 0.0121 - lstm_output_loss: 0.0189\n",
      "Epoch 1/1\n",
      "12564/12564 [==============================] - 5s 369us/step - loss: 0.0078 - main_output_loss: 0.0039 - lstm_output_loss: 0.0040\n",
      "Epoch 1/1\n",
      "12564/12564 [==============================] - 5s 374us/step - loss: 0.0068 - main_output_loss: 0.0036 - lstm_output_loss: 0.0031\n",
      "Epoch 1/1\n",
      "12564/12564 [==============================] - 5s 374us/step - loss: 0.0063 - main_output_loss: 0.0033 - lstm_output_loss: 0.0029\n",
      "Epoch 1/1\n",
      "12564/12564 [==============================] - 5s 373us/step - loss: 0.0062 - main_output_loss: 0.0033 - lstm_output_loss: 0.0029\n",
      "Epoch 1/1\n",
      "12564/12564 [==============================] - 5s 374us/step - loss: 0.0062 - main_output_loss: 0.0033 - lstm_output_loss: 0.0029\n",
      "Epoch 1/1\n",
      "12564/12564 [==============================] - 5s 375us/step - loss: 0.0060 - main_output_loss: 0.0032 - lstm_output_loss: 0.0029\n",
      "Epoch 1/1\n",
      "12564/12564 [==============================] - 5s 378us/step - loss: 0.0062 - main_output_loss: 0.0033 - lstm_output_loss: 0.0029\n",
      "Epoch 1/1\n",
      "12564/12564 [==============================] - 5s 377us/step - loss: 0.0061 - main_output_loss: 0.0032 - lstm_output_loss: 0.0029\n",
      "Epoch 1/1\n",
      "12564/12564 [==============================] - 5s 375us/step - loss: 0.0062 - main_output_loss: 0.0033 - lstm_output_loss: 0.0029\n",
      "Epoch 1/1\n",
      "12564/12564 [==============================] - 5s 378us/step - loss: 0.0060 - main_output_loss: 0.0032 - lstm_output_loss: 0.0029\n",
      "Epoch 1/1\n",
      "12564/12564 [==============================] - 5s 382us/step - loss: 0.0062 - main_output_loss: 0.0033 - lstm_output_loss: 0.0029\n",
      "Epoch 1/1\n",
      "12564/12564 [==============================] - 5s 377us/step - loss: 0.0060 - main_output_loss: 0.0032 - lstm_output_loss: 0.0028\n",
      "Epoch 1/1\n",
      "12564/12564 [==============================] - 5s 381us/step - loss: 0.0062 - main_output_loss: 0.0033 - lstm_output_loss: 0.0029\n",
      "Epoch 1/1\n",
      "12564/12564 [==============================] - 5s 384us/step - loss: 0.0061 - main_output_loss: 0.0032 - lstm_output_loss: 0.0029\n",
      "Epoch 1/1\n",
      "12564/12564 [==============================] - 5s 385us/step - loss: 0.0061 - main_output_loss: 0.0032 - lstm_output_loss: 0.0029\n",
      "Epoch 1/1\n",
      "12564/12564 [==============================] - 5s 380us/step - loss: 0.0060 - main_output_loss: 0.0032 - lstm_output_loss: 0.0028\n",
      "Epoch 1/1\n",
      "12564/12564 [==============================] - 5s 381us/step - loss: 0.0060 - main_output_loss: 0.0032 - lstm_output_loss: 0.0028\n",
      "Epoch 1/1\n",
      "12564/12564 [==============================] - 5s 383us/step - loss: 0.0060 - main_output_loss: 0.0032 - lstm_output_loss: 0.0028\n"
     ]
    }
   ],
   "source": [
    "# need to understand why this is creating nans\n",
    "\n",
    "# need to create separate validation set\n",
    "for i in range(20): # can create a function instead, if prefer\n",
    "        model.fit(x = [x_values, x_symb], y = [y, y], epochs = 1, batch_size = 4) # use batch size 1 for each day\n",
    "        model.reset_states()"
   ]
  },
  {
   "cell_type": "code",
   "execution_count": 32,
   "metadata": {},
   "outputs": [
    {
     "data": {
      "text/plain": [
       "<keras.engine.training.Model at 0x7f3967acfcf8>"
      ]
     },
     "execution_count": 32,
     "metadata": {},
     "output_type": "execute_result"
    }
   ],
   "source": [
    "model"
   ]
  },
  {
   "cell_type": "code",
   "execution_count": 33,
   "metadata": {},
   "outputs": [
    {
     "name": "stdout",
     "output_type": "stream",
     "text": [
      "(12564, 1, 1)\n",
      "(12570, 6)\n",
      "       Adj Close  CASI  GOOG  MBOT  MSFT  TLRY\n",
      "0       0.000000     1     0     0     0     0\n",
      "1       0.000000     0     1     0     0     0\n",
      "2       0.000000     0     0     1     0     0\n",
      "3       0.000000     0     0     0     1     0\n",
      "4       0.000000     0     0     0     0     1\n",
      "...          ...   ...   ...   ...   ...   ...\n",
      "12565   0.777841     1     0     0     0     0\n",
      "12566   1.929678     0     1     0     0     0\n",
      "12567  -6.603544     0     0     1     0     0\n",
      "12568   1.927697     0     0     0     1     0\n",
      "12569   1.079372     0     0     0     0     1\n",
      "\n",
      "[12570 rows x 6 columns]\n"
     ]
    }
   ],
   "source": [
    "print(x_values.shape)\n",
    "print(dat.shape)\n",
    "print(dat)"
   ]
  },
  {
   "cell_type": "code",
   "execution_count": 34,
   "metadata": {},
   "outputs": [
    {
     "name": "stdout",
     "output_type": "stream",
     "text": [
      "(12564, 5)\n",
      "[[1. 0. 0. 0. 0.]\n",
      " [0. 1. 0. 0. 0.]\n",
      " [0. 0. 1. 0. 0.]\n",
      " ...\n",
      " [0. 1. 0. 0. 0.]\n",
      " [0. 0. 1. 0. 0.]\n",
      " [0. 0. 0. 1. 0.]]\n",
      "[0. 1. 0. ... 1. 0. 0.]\n",
      "[False  True False ...  True False False]\n"
     ]
    }
   ],
   "source": [
    "print(x_symb.shape)\n",
    "print(x_symb)\n",
    "print(x_symb[:,1])\n",
    "print(x_symb[:,1]==1)"
   ]
  },
  {
   "cell_type": "code",
   "execution_count": 35,
   "metadata": {},
   "outputs": [],
   "source": [
    "pred = model.predict([x_values, x_symb])"
   ]
  },
  {
   "cell_type": "code",
   "execution_count": 36,
   "metadata": {},
   "outputs": [
    {
     "data": {
      "text/plain": [
       "[array([[-9.3945488e-03],\n",
       "        [-1.5594862e-02],\n",
       "        [-5.4183230e-03],\n",
       "        ...,\n",
       "        [ 1.9216239e+00],\n",
       "        [-6.5759187e+00],\n",
       "        [ 1.9320996e+00]], dtype=float32), array([[ 2.1454394e-03],\n",
       "        [ 2.1454394e-03],\n",
       "        [ 2.1454394e-03],\n",
       "        ...,\n",
       "        [ 1.9311237e+00],\n",
       "        [-6.5648890e+00],\n",
       "        [ 1.9339254e+00]], dtype=float32)]"
      ]
     },
     "execution_count": 36,
     "metadata": {},
     "output_type": "execute_result"
    }
   ],
   "source": [
    "pred"
   ]
  },
  {
   "cell_type": "code",
   "execution_count": 41,
   "metadata": {},
   "outputs": [
    {
     "data": {
      "text/plain": [
       "[<matplotlib.lines.Line2D at 0x7f396557b0f0>]"
      ]
     },
     "execution_count": 41,
     "metadata": {},
     "output_type": "execute_result"
    },
    {
     "data": {
      "image/png": "[encoded data removed]",
      "text/plain": [
       "<Figure size 432x288 with 1 Axes>"
      ]
     },
     "metadata": {
      "needs_background": "light"
     },
     "output_type": "display_data"
    }
   ],
   "source": [
    "stock_i = 0\n",
    "\n",
    "plt.plot(np.linspace(0,len(pred[1][x_symb[:,stock_i]==1]),len(pred[1][x_symb[:,stock_i]==1])), \n",
    "                     pred[1][x_symb[:,stock_i]==1], \n",
    "                     color = 'red')"
   ]
  },
  {
   "cell_type": "code",
   "execution_count": 38,
   "metadata": {},
   "outputs": [
    {
     "data": {
      "text/html": [
       "<div>\n",
       "<style scoped>\n",
       "    .dataframe tbody tr th:only-of-type {\n",
       "        vertical-align: middle;\n",
       "    }\n",
       "\n",
       "    .dataframe tbody tr th {\n",
       "        vertical-align: top;\n",
       "    }\n",
       "\n",
       "    .dataframe thead th {\n",
       "        text-align: right;\n",
       "    }\n",
       "</style>\n",
       "<table border=\"1\" class=\"dataframe\">\n",
       "  <thead>\n",
       "    <tr style=\"text-align: right;\">\n",
       "      <th></th>\n",
       "      <th>Adj Close</th>\n",
       "      <th>CASI</th>\n",
       "      <th>GOOG</th>\n",
       "      <th>MBOT</th>\n",
       "      <th>MSFT</th>\n",
       "      <th>TLRY</th>\n",
       "    </tr>\n",
       "  </thead>\n",
       "  <tbody>\n",
       "    <tr>\n",
       "      <th>0</th>\n",
       "      <td>0.000000</td>\n",
       "      <td>1</td>\n",
       "      <td>0</td>\n",
       "      <td>0</td>\n",
       "      <td>0</td>\n",
       "      <td>0</td>\n",
       "    </tr>\n",
       "    <tr>\n",
       "      <th>1</th>\n",
       "      <td>0.000000</td>\n",
       "      <td>0</td>\n",
       "      <td>1</td>\n",
       "      <td>0</td>\n",
       "      <td>0</td>\n",
       "      <td>0</td>\n",
       "    </tr>\n",
       "    <tr>\n",
       "      <th>2</th>\n",
       "      <td>0.000000</td>\n",
       "      <td>0</td>\n",
       "      <td>0</td>\n",
       "      <td>1</td>\n",
       "      <td>0</td>\n",
       "      <td>0</td>\n",
       "    </tr>\n",
       "    <tr>\n",
       "      <th>3</th>\n",
       "      <td>0.000000</td>\n",
       "      <td>0</td>\n",
       "      <td>0</td>\n",
       "      <td>0</td>\n",
       "      <td>1</td>\n",
       "      <td>0</td>\n",
       "    </tr>\n",
       "    <tr>\n",
       "      <th>4</th>\n",
       "      <td>0.000000</td>\n",
       "      <td>0</td>\n",
       "      <td>0</td>\n",
       "      <td>0</td>\n",
       "      <td>0</td>\n",
       "      <td>1</td>\n",
       "    </tr>\n",
       "    <tr>\n",
       "      <th>...</th>\n",
       "      <td>...</td>\n",
       "      <td>...</td>\n",
       "      <td>...</td>\n",
       "      <td>...</td>\n",
       "      <td>...</td>\n",
       "      <td>...</td>\n",
       "    </tr>\n",
       "    <tr>\n",
       "      <th>12565</th>\n",
       "      <td>0.777841</td>\n",
       "      <td>1</td>\n",
       "      <td>0</td>\n",
       "      <td>0</td>\n",
       "      <td>0</td>\n",
       "      <td>0</td>\n",
       "    </tr>\n",
       "    <tr>\n",
       "      <th>12566</th>\n",
       "      <td>1.929678</td>\n",
       "      <td>0</td>\n",
       "      <td>1</td>\n",
       "      <td>0</td>\n",
       "      <td>0</td>\n",
       "      <td>0</td>\n",
       "    </tr>\n",
       "    <tr>\n",
       "      <th>12567</th>\n",
       "      <td>-6.603544</td>\n",
       "      <td>0</td>\n",
       "      <td>0</td>\n",
       "      <td>1</td>\n",
       "      <td>0</td>\n",
       "      <td>0</td>\n",
       "    </tr>\n",
       "    <tr>\n",
       "      <th>12568</th>\n",
       "      <td>1.927697</td>\n",
       "      <td>0</td>\n",
       "      <td>0</td>\n",
       "      <td>0</td>\n",
       "      <td>1</td>\n",
       "      <td>0</td>\n",
       "    </tr>\n",
       "    <tr>\n",
       "      <th>12569</th>\n",
       "      <td>1.079372</td>\n",
       "      <td>0</td>\n",
       "      <td>0</td>\n",
       "      <td>0</td>\n",
       "      <td>0</td>\n",
       "      <td>1</td>\n",
       "    </tr>\n",
       "  </tbody>\n",
       "</table>\n",
       "<p>12570 rows × 6 columns</p>\n",
       "</div>"
      ],
      "text/plain": [
       "       Adj Close  CASI  GOOG  MBOT  MSFT  TLRY\n",
       "0       0.000000     1     0     0     0     0\n",
       "1       0.000000     0     1     0     0     0\n",
       "2       0.000000     0     0     1     0     0\n",
       "3       0.000000     0     0     0     1     0\n",
       "4       0.000000     0     0     0     0     1\n",
       "...          ...   ...   ...   ...   ...   ...\n",
       "12565   0.777841     1     0     0     0     0\n",
       "12566   1.929678     0     1     0     0     0\n",
       "12567  -6.603544     0     0     1     0     0\n",
       "12568   1.927697     0     0     0     1     0\n",
       "12569   1.079372     0     0     0     0     1\n",
       "\n",
       "[12570 rows x 6 columns]"
      ]
     },
     "execution_count": 38,
     "metadata": {},
     "output_type": "execute_result"
    }
   ],
   "source": [
    "dat"
   ]
  }
 ],
 "metadata": {
  "kernelspec": {
   "display_name": "Python 3",
   "language": "python",
   "name": "python3"
  },
  "language_info": {
   "codemirror_mode": {
    "name": "ipython",
    "version": 3
   },
   "file_extension": ".py",
   "mimetype": "text/x-python",
   "name": "python",
   "nbconvert_exporter": "python",
   "pygments_lexer": "ipython3",
   "version": "3.6.7"
  }
 },
 "nbformat": 4,
 "nbformat_minor": 2
}
