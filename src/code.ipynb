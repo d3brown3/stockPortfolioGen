{
 "cells": [
  {
   "cell_type": "code",
   "execution_count": 1,
   "metadata": {},
   "outputs": [
    {
     "name": "stderr",
     "output_type": "stream",
     "text": [
      "Using TensorFlow backend.\n"
     ]
    }
   ],
   "source": [
    "import pandas as pd\n",
    "import numpy as np\n",
    "import keras\n",
    "from keras import layers\n",
    "from keras.layers import recurrent, Dense, Input, LSTM\n",
    "from keras.models import Model"
   ]
  },
  {
   "cell_type": "code",
   "execution_count": 2,
   "metadata": {},
   "outputs": [],
   "source": [
    "df = pd.read_csv('/home/david/stockPortfolioGen/data/stocks.csv.gz', compression='gzip')"
   ]
  },
  {
   "cell_type": "code",
   "execution_count": 3,
   "metadata": {},
   "outputs": [],
   "source": [
    "df = df.sort_values(by=['Symbol', 'Date'])"
   ]
  },
  {
   "cell_type": "code",
   "execution_count": 4,
   "metadata": {},
   "outputs": [],
   "source": [
    "# l1 = list(range(1,10+1))\n",
    "\n",
    "# l2 = [list(range(i, i+10)) for i in l1]\n",
    "# l2 = np.array(l2)\n",
    "\n",
    "# l2.shape\n",
    "# l2"
   ]
  },
  {
   "cell_type": "code",
   "execution_count": 5,
   "metadata": {},
   "outputs": [],
   "source": [
    "# stocks = list(df['Symbol'].unique())\n",
    "# stocks = stocks[0:2]\n",
    "\n",
    "# print(stocks)\n",
    "\n",
    "# train_arr = np.empty((0,37)) \n",
    "\n",
    "# for stock in stocks:\n",
    "#    df_stock = df[df['Symbol'] == stock]\n",
    "#    np_stock = np.array(df_stock['Adj Close'])\n",
    "#    array_stock = [np_stock[range(min(i, len(np_stock)), min(i + 37, len(np_stock)))] for i in range(len(df_stock['Adj Close']))]\n",
    "#    array_stock = np.array(array_stock)\n",
    "#    print(array_stock.shape)\n",
    "#    np.append(train_arr, array_stock, axis = 0)\n",
    "\n",
    "# train_arr"
   ]
  },
  {
   "cell_type": "code",
   "execution_count": 6,
   "metadata": {},
   "outputs": [],
   "source": [
    "dat = df[df['Symbol']=='CASI']"
   ]
  },
  {
   "cell_type": "code",
   "execution_count": 7,
   "metadata": {},
   "outputs": [
    {
     "data": {
      "text/plain": [
       "[1.98]"
      ]
     },
     "execution_count": 7,
     "metadata": {},
     "output_type": "execute_result"
    }
   ],
   "source": [
    "# dat.head()\n",
    "normalizer = dat['Adj Close'].tolist()[0:1]\n",
    "normalizer"
   ]
  },
  {
   "cell_type": "code",
   "execution_count": 8,
   "metadata": {},
   "outputs": [],
   "source": [
    "x = np.array(dat['Adj Close'][0:2513])/normalizer\n",
    "y = np.array(dat['Adj Close'][1:2514])/normalizer"
   ]
  },
  {
   "cell_type": "code",
   "execution_count": 9,
   "metadata": {},
   "outputs": [
    {
     "data": {
      "text/plain": [
       "(2513, 1, 1)"
      ]
     },
     "execution_count": 9,
     "metadata": {},
     "output_type": "execute_result"
    }
   ],
   "source": [
    "x = x.reshape(x.shape[0], 1, 1)\n",
    "x.shape"
   ]
  },
  {
   "cell_type": "code",
   "execution_count": 10,
   "metadata": {},
   "outputs": [],
   "source": [
    "inputs = Input(shape = x.shape[1:3])\n",
    "lstm = LSTM(units = 60)(inputs)\n",
    "output = Dense(units = 1)(lstm)"
   ]
  },
  {
   "cell_type": "code",
   "execution_count": 11,
   "metadata": {},
   "outputs": [],
   "source": [
    "model = Model(inputs, output)"
   ]
  },
  {
   "cell_type": "code",
   "execution_count": 12,
   "metadata": {},
   "outputs": [],
   "source": [
    "model.compile(loss = 'mean_squared_error', optimizer = 'adam')"
   ]
  },
  {
   "cell_type": "code",
   "execution_count": 21,
   "metadata": {},
   "outputs": [
    {
     "name": "stdout",
     "output_type": "stream",
     "text": [
      "Epoch 1/1\n",
      "2513/2513 [==============================] - 4s 2ms/step - loss: 0.0191\n",
      "Epoch 1/1\n",
      "2513/2513 [==============================] - 4s 1ms/step - loss: 0.0190\n",
      "Epoch 1/1\n",
      "2513/2513 [==============================] - 4s 1ms/step - loss: 0.0191\n",
      "Epoch 1/1\n",
      "2513/2513 [==============================] - 4s 2ms/step - loss: 0.0193\n",
      "Epoch 1/1\n",
      "2513/2513 [==============================] - 4s 1ms/step - loss: 0.0197\n",
      "Epoch 1/1\n",
      "2513/2513 [==============================] - 4s 1ms/step - loss: 0.0190\n",
      "Epoch 1/1\n",
      "2513/2513 [==============================] - 4s 1ms/step - loss: 0.0185\n",
      "Epoch 1/1\n",
      "2513/2513 [==============================] - 4s 1ms/step - loss: 0.0191\n",
      "Epoch 1/1\n",
      "2513/2513 [==============================] - 4s 1ms/step - loss: 0.0191\n",
      "Epoch 1/1\n",
      "2513/2513 [==============================] - 4s 1ms/step - loss: 0.0189\n",
      "Epoch 1/1\n",
      "2513/2513 [==============================] - 4s 1ms/step - loss: 0.0187\n",
      "Epoch 1/1\n",
      "2513/2513 [==============================] - 4s 2ms/step - loss: 0.0189\n",
      "Epoch 1/1\n",
      "2513/2513 [==============================] - 4s 2ms/step - loss: 0.0192\n",
      "Epoch 1/1\n",
      "2513/2513 [==============================] - 6s 2ms/step - loss: 0.0184\n",
      "Epoch 1/1\n",
      "2513/2513 [==============================] - 6s 2ms/step - loss: 0.0192\n",
      "Epoch 1/1\n",
      "2513/2513 [==============================] - 3s 1ms/step - loss: 0.0195\n",
      "Epoch 1/1\n",
      "2513/2513 [==============================] - 3s 1ms/step - loss: 0.0185\n",
      "Epoch 1/1\n",
      "2513/2513 [==============================] - 3s 1ms/step - loss: 0.0189\n",
      "Epoch 1/1\n",
      "2513/2513 [==============================] - 3s 1ms/step - loss: 0.0190\n",
      "Epoch 1/1\n",
      "2513/2513 [==============================] - 3s 1ms/step - loss: 0.0184\n",
      "Epoch 1/1\n",
      "2513/2513 [==============================] - 3s 1ms/step - loss: 0.0186\n",
      "Epoch 1/1\n",
      "2513/2513 [==============================] - 3s 1ms/step - loss: 0.0185\n",
      "Epoch 1/1\n",
      "2513/2513 [==============================] - 3s 1ms/step - loss: 0.0186\n",
      "Epoch 1/1\n",
      "2513/2513 [==============================] - 3s 1ms/step - loss: 0.0189\n",
      "Epoch 1/1\n",
      "2513/2513 [==============================] - 3s 1ms/step - loss: 0.0183\n",
      "Epoch 1/1\n",
      "2513/2513 [==============================] - 4s 1ms/step - loss: 0.0189\n",
      "Epoch 1/1\n",
      "2513/2513 [==============================] - 4s 1ms/step - loss: 0.0190\n",
      "Epoch 1/1\n",
      "2513/2513 [==============================] - 4s 1ms/step - loss: 0.0186\n",
      "Epoch 1/1\n",
      "2513/2513 [==============================] - 4s 1ms/step - loss: 0.0182\n",
      "Epoch 1/1\n",
      "2513/2513 [==============================] - 4s 1ms/step - loss: 0.0184\n",
      "Epoch 1/1\n",
      "2513/2513 [==============================] - 3s 1ms/step - loss: 0.0184\n",
      "Epoch 1/1\n",
      "2513/2513 [==============================] - 3s 1ms/step - loss: 0.0184\n",
      "Epoch 1/1\n",
      "2513/2513 [==============================] - 3s 1ms/step - loss: 0.0186\n",
      "Epoch 1/1\n",
      "2513/2513 [==============================] - 3s 1ms/step - loss: 0.0179\n",
      "Epoch 1/1\n",
      "2513/2513 [==============================] - 3s 1ms/step - loss: 0.0186\n",
      "Epoch 1/1\n",
      "2513/2513 [==============================] - 3s 1ms/step - loss: 0.0186\n",
      "Epoch 1/1\n",
      "2513/2513 [==============================] - 3s 1ms/step - loss: 0.0188\n",
      "Epoch 1/1\n",
      "2513/2513 [==============================] - 4s 1ms/step - loss: 0.0180\n",
      "Epoch 1/1\n",
      "2513/2513 [==============================] - 4s 1ms/step - loss: 0.0185\n",
      "Epoch 1/1\n",
      "2513/2513 [==============================] - 3s 1ms/step - loss: 0.0184\n",
      "Epoch 1/1\n",
      "2513/2513 [==============================] - 4s 1ms/step - loss: 0.0190\n",
      "Epoch 1/1\n",
      "2513/2513 [==============================] - 4s 1ms/step - loss: 0.0183\n",
      "Epoch 1/1\n",
      "2513/2513 [==============================] - 4s 1ms/step - loss: 0.0182\n",
      "Epoch 1/1\n",
      "2513/2513 [==============================] - 4s 1ms/step - loss: 0.0185\n",
      "Epoch 1/1\n",
      "2513/2513 [==============================] - 4s 2ms/step - loss: 0.0187\n",
      "Epoch 1/1\n",
      "2513/2513 [==============================] - 4s 2ms/step - loss: 0.0181\n",
      "Epoch 1/1\n",
      "2513/2513 [==============================] - 4s 2ms/step - loss: 0.0178\n",
      "Epoch 1/1\n",
      "2513/2513 [==============================] - 4s 2ms/step - loss: 0.0186\n",
      "Epoch 1/1\n",
      "2513/2513 [==============================] - 4s 1ms/step - loss: 0.0188\n",
      "Epoch 1/1\n",
      "2513/2513 [==============================] - 4s 2ms/step - loss: 0.0180\n",
      "Epoch 1/1\n",
      "2513/2513 [==============================] - 4s 2ms/step - loss: 0.0187\n",
      "Epoch 1/1\n",
      "2513/2513 [==============================] - 4s 2ms/step - loss: 0.0180\n",
      "Epoch 1/1\n",
      "2513/2513 [==============================] - 4s 2ms/step - loss: 0.0186\n",
      "Epoch 1/1\n",
      "2513/2513 [==============================] - 4s 2ms/step - loss: 0.0178\n",
      "Epoch 1/1\n",
      "2513/2513 [==============================] - 4s 2ms/step - loss: 0.0183\n",
      "Epoch 1/1\n",
      "2513/2513 [==============================] - 4s 2ms/step - loss: 0.0185\n",
      "Epoch 1/1\n",
      "2513/2513 [==============================] - 4s 2ms/step - loss: 0.0186\n",
      "Epoch 1/1\n",
      "2513/2513 [==============================] - 4s 2ms/step - loss: 0.0186\n",
      "Epoch 1/1\n",
      "2513/2513 [==============================] - 4s 2ms/step - loss: 0.0183\n",
      "Epoch 1/1\n",
      "2513/2513 [==============================] - 4s 2ms/step - loss: 0.0185\n",
      "Epoch 1/1\n",
      "2513/2513 [==============================] - 4s 2ms/step - loss: 0.0181\n",
      "Epoch 1/1\n",
      "2513/2513 [==============================] - 4s 2ms/step - loss: 0.0183\n",
      "Epoch 1/1\n",
      "2513/2513 [==============================] - 4s 2ms/step - loss: 0.0184\n",
      "Epoch 1/1\n",
      "2513/2513 [==============================] - 4s 2ms/step - loss: 0.0183\n",
      "Epoch 1/1\n",
      "2513/2513 [==============================] - 4s 2ms/step - loss: 0.0184\n",
      "Epoch 1/1\n",
      "2513/2513 [==============================] - 4s 2ms/step - loss: 0.0183\n",
      "Epoch 1/1\n",
      "2513/2513 [==============================] - 4s 2ms/step - loss: 0.0179\n",
      "Epoch 1/1\n",
      "2513/2513 [==============================] - 4s 2ms/step - loss: 0.0184\n",
      "Epoch 1/1\n",
      "2513/2513 [==============================] - 4s 2ms/step - loss: 0.0181\n",
      "Epoch 1/1\n",
      "2513/2513 [==============================] - 4s 2ms/step - loss: 0.0182\n",
      "Epoch 1/1\n",
      "2513/2513 [==============================] - 4s 2ms/step - loss: 0.0180\n",
      "Epoch 1/1\n",
      "2513/2513 [==============================] - 4s 1ms/step - loss: 0.0186\n",
      "Epoch 1/1\n",
      "2513/2513 [==============================] - 4s 1ms/step - loss: 0.0181\n",
      "Epoch 1/1\n",
      "2513/2513 [==============================] - 4s 1ms/step - loss: 0.0181\n",
      "Epoch 1/1\n",
      "2513/2513 [==============================] - 4s 2ms/step - loss: 0.0185\n",
      "Epoch 1/1\n",
      "2513/2513 [==============================] - 4s 2ms/step - loss: 0.0179\n",
      "Epoch 1/1\n",
      "2513/2513 [==============================] - 4s 2ms/step - loss: 0.0181\n",
      "Epoch 1/1\n",
      "2513/2513 [==============================] - 4s 2ms/step - loss: 0.0183\n",
      "Epoch 1/1\n",
      "2513/2513 [==============================] - 4s 2ms/step - loss: 0.0181\n",
      "Epoch 1/1\n",
      "2513/2513 [==============================] - 4s 2ms/step - loss: 0.0181\n",
      "Epoch 1/1\n",
      "2513/2513 [==============================] - 4s 2ms/step - loss: 0.0183\n",
      "Epoch 1/1\n",
      "2513/2513 [==============================] - 4s 2ms/step - loss: 0.0175\n",
      "Epoch 1/1\n",
      "2513/2513 [==============================] - 4s 2ms/step - loss: 0.0182\n",
      "Epoch 1/1\n",
      "2513/2513 [==============================] - 4s 2ms/step - loss: 0.0186\n",
      "Epoch 1/1\n",
      "2513/2513 [==============================] - 4s 2ms/step - loss: 0.0182\n",
      "Epoch 1/1\n",
      "2513/2513 [==============================] - 4s 2ms/step - loss: 0.0184\n",
      "Epoch 1/1\n",
      "2513/2513 [==============================] - 4s 2ms/step - loss: 0.0183\n",
      "Epoch 1/1\n",
      "2513/2513 [==============================] - 4s 1ms/step - loss: 0.0180\n",
      "Epoch 1/1\n",
      "2513/2513 [==============================] - 4s 1ms/step - loss: 0.0180\n",
      "Epoch 1/1\n",
      "2513/2513 [==============================] - 4s 2ms/step - loss: 0.0180\n",
      "Epoch 1/1\n",
      "2513/2513 [==============================] - 4s 2ms/step - loss: 0.0183\n",
      "Epoch 1/1\n",
      "2513/2513 [==============================] - 4s 2ms/step - loss: 0.0180\n",
      "Epoch 1/1\n",
      "2513/2513 [==============================] - 4s 2ms/step - loss: 0.0182\n",
      "Epoch 1/1\n",
      "2513/2513 [==============================] - 4s 2ms/step - loss: 0.0178\n",
      "Epoch 1/1\n",
      "2513/2513 [==============================] - 4s 2ms/step - loss: 0.0180\n",
      "Epoch 1/1\n",
      "2513/2513 [==============================] - 4s 2ms/step - loss: 0.0180\n",
      "Epoch 1/1\n",
      "2513/2513 [==============================] - 4s 2ms/step - loss: 0.0182\n",
      "Epoch 1/1\n",
      "2513/2513 [==============================] - 4s 2ms/step - loss: 0.0180\n",
      "Epoch 1/1\n",
      "2513/2513 [==============================] - 4s 2ms/step - loss: 0.0180\n",
      "Epoch 1/1\n"
     ]
    },
    {
     "name": "stdout",
     "output_type": "stream",
     "text": [
      "2513/2513 [==============================] - 3s 1ms/step - loss: 0.0182\n"
     ]
    }
   ],
   "source": [
    "# need to create separate validation set\n",
    "for i in range(100): # can create a function instead, if prefer\n",
    "        model.fit(x, y, epochs = 1, batch_size = 1) # use batch size 1 for each day\n",
    "        model.reset_states()"
   ]
  }
 ],
 "metadata": {
  "kernelspec": {
   "display_name": "Python 3",
   "language": "python",
   "name": "python3"
  },
  "language_info": {
   "codemirror_mode": {
    "name": "ipython",
    "version": 3
   },
   "file_extension": ".py",
   "mimetype": "text/x-python",
   "name": "python",
   "nbconvert_exporter": "python",
   "pygments_lexer": "ipython3",
   "version": "3.6.7"
  }
 },
 "nbformat": 4,
 "nbformat_minor": 2
}
